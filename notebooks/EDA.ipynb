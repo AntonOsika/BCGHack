{
 "cells": [
  {
   "cell_type": "code",
   "execution_count": 1,
   "metadata": {},
   "outputs": [
    {
     "name": "stdout",
     "output_type": "stream",
     "text": [
      "['.ipynb_checkpoints', 'EDA.ipynb']\n"
     ]
    }
   ],
   "source": [
    "import os\n",
    "import seaborn as sb\n",
    "import matplotlib.pyplot as plt\n",
    "\n",
    "print(os.listdir(\".\"))"
   ]
  },
  {
   "cell_type": "code",
   "execution_count": 2,
   "metadata": {},
   "outputs": [],
   "source": [
    "from pathlib import Path\n",
    "path = Path(\"../\")"
   ]
  },
  {
   "cell_type": "code",
   "execution_count": 3,
   "metadata": {},
   "outputs": [
    {
     "name": "stdout",
     "output_type": "stream",
     "text": [
      "CPU times: user 6.6 s, sys: 562 ms, total: 7.17 s\n",
      "Wall time: 7.16 s\n"
     ]
    }
   ],
   "source": [
    "%%time\n",
    "import pandas as pd\n",
    "data = path / \"GAMMA_hackathon/customer_data.csv\"\n",
    "data = pd.read_csv(data)\n"
   ]
  },
  {
   "cell_type": "code",
   "execution_count": 4,
   "metadata": {},
   "outputs": [
    {
     "data": {
      "text/html": [
       "<div>\n",
       "<style scoped>\n",
       "    .dataframe tbody tr th:only-of-type {\n",
       "        vertical-align: middle;\n",
       "    }\n",
       "\n",
       "    .dataframe tbody tr th {\n",
       "        vertical-align: top;\n",
       "    }\n",
       "\n",
       "    .dataframe thead th {\n",
       "        text-align: right;\n",
       "    }\n",
       "</style>\n",
       "<table border=\"1\" class=\"dataframe\">\n",
       "  <thead>\n",
       "    <tr style=\"text-align: right;\">\n",
       "      <th></th>\n",
       "      <th>customer_id</th>\n",
       "      <th>months_since_joined</th>\n",
       "      <th>referred_friends</th>\n",
       "      <th>transaction_count</th>\n",
       "      <th>transaction_value</th>\n",
       "      <th>clv</th>\n",
       "      <th>total_reward_points</th>\n",
       "      <th>earned_reward_points</th>\n",
       "    </tr>\n",
       "  </thead>\n",
       "  <tbody>\n",
       "    <tr>\n",
       "      <td>count</td>\n",
       "      <td>1.143614e+07</td>\n",
       "      <td>1.143614e+07</td>\n",
       "      <td>1.143614e+07</td>\n",
       "      <td>1.143614e+07</td>\n",
       "      <td>1.143614e+07</td>\n",
       "      <td>1.143614e+07</td>\n",
       "      <td>1.143614e+07</td>\n",
       "      <td>1.143614e+07</td>\n",
       "    </tr>\n",
       "    <tr>\n",
       "      <td>mean</td>\n",
       "      <td>6.086582e+05</td>\n",
       "      <td>2.210391e+01</td>\n",
       "      <td>9.669775e-01</td>\n",
       "      <td>2.936650e+01</td>\n",
       "      <td>1.504392e+02</td>\n",
       "      <td>3.600556e+03</td>\n",
       "      <td>5.648918e+03</td>\n",
       "      <td>2.941982e+02</td>\n",
       "    </tr>\n",
       "    <tr>\n",
       "      <td>std</td>\n",
       "      <td>2.847427e+05</td>\n",
       "      <td>1.978018e+01</td>\n",
       "      <td>9.877185e-01</td>\n",
       "      <td>1.471019e+01</td>\n",
       "      <td>1.645431e+02</td>\n",
       "      <td>5.712062e+03</td>\n",
       "      <td>1.374896e+04</td>\n",
       "      <td>5.555236e+02</td>\n",
       "    </tr>\n",
       "    <tr>\n",
       "      <td>min</td>\n",
       "      <td>2.000000e+00</td>\n",
       "      <td>1.000000e+00</td>\n",
       "      <td>0.000000e+00</td>\n",
       "      <td>0.000000e+00</td>\n",
       "      <td>0.000000e+00</td>\n",
       "      <td>0.000000e+00</td>\n",
       "      <td>0.000000e+00</td>\n",
       "      <td>0.000000e+00</td>\n",
       "    </tr>\n",
       "    <tr>\n",
       "      <td>25%</td>\n",
       "      <td>4.067390e+05</td>\n",
       "      <td>6.000000e+00</td>\n",
       "      <td>0.000000e+00</td>\n",
       "      <td>1.900000e+01</td>\n",
       "      <td>5.816020e+01</td>\n",
       "      <td>4.291993e+02</td>\n",
       "      <td>2.759791e+02</td>\n",
       "      <td>4.600000e+01</td>\n",
       "    </tr>\n",
       "    <tr>\n",
       "      <td>50%</td>\n",
       "      <td>6.195790e+05</td>\n",
       "      <td>1.600000e+01</td>\n",
       "      <td>1.000000e+00</td>\n",
       "      <td>2.600000e+01</td>\n",
       "      <td>8.558780e+01</td>\n",
       "      <td>1.130037e+03</td>\n",
       "      <td>1.068997e+03</td>\n",
       "      <td>1.000000e+02</td>\n",
       "    </tr>\n",
       "    <tr>\n",
       "      <td>75%</td>\n",
       "      <td>8.241590e+05</td>\n",
       "      <td>3.400000e+01</td>\n",
       "      <td>2.000000e+00</td>\n",
       "      <td>3.600000e+01</td>\n",
       "      <td>1.718362e+02</td>\n",
       "      <td>4.080206e+03</td>\n",
       "      <td>4.421000e+03</td>\n",
       "      <td>2.660000e+02</td>\n",
       "    </tr>\n",
       "    <tr>\n",
       "      <td>max</td>\n",
       "      <td>1.204356e+06</td>\n",
       "      <td>9.300000e+01</td>\n",
       "      <td>9.000000e+00</td>\n",
       "      <td>1.410000e+02</td>\n",
       "      <td>1.929116e+03</td>\n",
       "      <td>6.423930e+04</td>\n",
       "      <td>4.863967e+05</td>\n",
       "      <td>1.238400e+04</td>\n",
       "    </tr>\n",
       "  </tbody>\n",
       "</table>\n",
       "</div>"
      ],
      "text/plain": [
       "        customer_id  months_since_joined  referred_friends  transaction_count  \\\n",
       "count  1.143614e+07         1.143614e+07      1.143614e+07       1.143614e+07   \n",
       "mean   6.086582e+05         2.210391e+01      9.669775e-01       2.936650e+01   \n",
       "std    2.847427e+05         1.978018e+01      9.877185e-01       1.471019e+01   \n",
       "min    2.000000e+00         1.000000e+00      0.000000e+00       0.000000e+00   \n",
       "25%    4.067390e+05         6.000000e+00      0.000000e+00       1.900000e+01   \n",
       "50%    6.195790e+05         1.600000e+01      1.000000e+00       2.600000e+01   \n",
       "75%    8.241590e+05         3.400000e+01      2.000000e+00       3.600000e+01   \n",
       "max    1.204356e+06         9.300000e+01      9.000000e+00       1.410000e+02   \n",
       "\n",
       "       transaction_value           clv  total_reward_points  \\\n",
       "count       1.143614e+07  1.143614e+07         1.143614e+07   \n",
       "mean        1.504392e+02  3.600556e+03         5.648918e+03   \n",
       "std         1.645431e+02  5.712062e+03         1.374896e+04   \n",
       "min         0.000000e+00  0.000000e+00         0.000000e+00   \n",
       "25%         5.816020e+01  4.291993e+02         2.759791e+02   \n",
       "50%         8.558780e+01  1.130037e+03         1.068997e+03   \n",
       "75%         1.718362e+02  4.080206e+03         4.421000e+03   \n",
       "max         1.929116e+03  6.423930e+04         4.863967e+05   \n",
       "\n",
       "       earned_reward_points  \n",
       "count          1.143614e+07  \n",
       "mean           2.941982e+02  \n",
       "std            5.555236e+02  \n",
       "min            0.000000e+00  \n",
       "25%            4.600000e+01  \n",
       "50%            1.000000e+02  \n",
       "75%            2.660000e+02  \n",
       "max            1.238400e+04  "
      ]
     },
     "execution_count": 4,
     "metadata": {},
     "output_type": "execute_result"
    }
   ],
   "source": [
    "data.describe()"
   ]
  },
  {
   "cell_type": "code",
   "execution_count": 5,
   "metadata": {},
   "outputs": [
    {
     "name": "stdout",
     "output_type": "stream",
     "text": [
      "customer_id  sample  [578738]\n",
      "month  sample  ['2018-01-01']\n",
      "months_since_joined  sample  [41]\n",
      "referred_friends  sample  [3]\n",
      "transaction_count  sample  [32.]\n",
      "transaction_value  sample  [203.91900691]\n",
      "clv  sample  [221.37031076]\n",
      "total_reward_points  sample  [43.99800949]\n",
      "earned_reward_points  sample  [102.]\n",
      "cluster  sample  ['B']\n",
      "churned  sample  [ True]\n"
     ]
    }
   ],
   "source": [
    "for col in data.columns:\n",
    "    print(col, \" sample \", data[col].sample().values)"
   ]
  },
  {
   "cell_type": "code",
   "execution_count": 6,
   "metadata": {},
   "outputs": [
    {
     "data": {
      "text/plain": [
       "836833"
      ]
     },
     "execution_count": 6,
     "metadata": {},
     "output_type": "execute_result"
    }
   ],
   "source": [
    "data.shape\n",
    "data[\"customer_id\"].unique().size"
   ]
  },
  {
   "cell_type": "code",
   "execution_count": 7,
   "metadata": {},
   "outputs": [],
   "source": [
    "data = data.sort_values(by=\"month\")"
   ]
  },
  {
   "cell_type": "code",
   "execution_count": 11,
   "metadata": {},
   "outputs": [],
   "source": [
    "can_choose = data.groupby(\"customer_id\").tail(1)\n",
    "can_choose = can_choose.loc[can_choose[\"churned\"] == False]"
   ]
  },
  {
   "cell_type": "code",
   "execution_count": 12,
   "metadata": {},
   "outputs": [],
   "source": [
    "import tqdm\n",
    "\n",
    "tqdm.tqdm.pandas()\n"
   ]
  },
  {
   "cell_type": "code",
   "execution_count": null,
   "metadata": {},
   "outputs": [
    {
     "name": "stderr",
     "output_type": "stream",
     "text": [
      " 89%|████████▉ | 744885/836833 [06:51<00:49, 1864.88it/s]"
     ]
    }
   ],
   "source": [
    "%%time\n",
    "train = pd.DataFrame(data)\n",
    "\n",
    "def shift_churn(df):\n",
    "    df[\"churned\"] = df[\"churned\"].shift(-1)\n",
    "    return df\n",
    "    \n",
    "train[\"churned\"] = train.groupby(\"customer_id\").progress_apply(shift_churn)[\"churned\"]\n",
    "train = data.groupby(\"customer_id\").tail(2).groupby(\"customer_id\").head(1)\n"
   ]
  },
  {
   "cell_type": "code",
   "execution_count": null,
   "metadata": {},
   "outputs": [],
   "source": [
    "print(last.shape)\n",
    "print(train.shape)"
   ]
  },
  {
   "cell_type": "code",
   "execution_count": null,
   "metadata": {},
   "outputs": [],
   "source": [
    "def vectorize_data(x):\n",
    "    train = pd.DataFrame()\n",
    "    train[\"msj\"] = (x[\"months_since_joined\"] - x[\"months_since_joined\"].mean()) / x[\"months_since_joined\"].std()\n",
    "    train[\"rf\"] = (x[\"referred_friends\"] - x[\"referred_friends\"].mean()) / x[\"referred_friends\"].std()\n",
    "    train[\"tc\"] = (x[\"transaction_count\"] - x[\"transaction_count\"].mean()) / x[\"transaction_count\"].std()\n",
    "    train[\"tv\"] = (x[\"transaction_value\"] - x[\"transaction_value\"].mean()) / x[\"transaction_value\"].std()\n",
    "    train[\"trp\"] = (x[\"total_reward_points\"] - x[\"total_reward_points\"].mean()) / x[\"total_reward_points\"].std()\n",
    "    train[\"erp\"] = (x[\"earned_reward_points\"] - x[\"earned_reward_points\"].mean()) / x[\"earned_reward_points\"].std()\n",
    "    \n",
    "    clusters = pd.get_dummies(x[\"cluster\"])\n",
    "    \n",
    "    return pd.concat([train, clusters], axis=1), x[\"churned\"].apply(int)\n",
    "\n",
    "\n",
    "train, label = vectorize_data(train)"
   ]
  },
  {
   "cell_type": "code",
   "execution_count": null,
   "metadata": {},
   "outputs": [],
   "source": [
    "predict, _ = vectorize_data(can_choose)"
   ]
  },
  {
   "cell_type": "code",
   "execution_count": null,
   "metadata": {},
   "outputs": [],
   "source": [
    "from sklearn.neural_network import MLPClassifier\n",
    "from sklearn.ensemble import RandomForestClassifier\n",
    "\n",
    "clf = MLPClassifier(verbose=True).fit(train.values, label)\n",
    "#clf = RandomForestClassifier(verbose=True, n_estimators=200).fit(train.values, label)"
   ]
  },
  {
   "cell_type": "code",
   "execution_count": null,
   "metadata": {},
   "outputs": [],
   "source": [
    "import lightgbm\n",
    "\n",
    "parameters = {\n",
    "    'application': 'binary',\n",
    "    'objective': 'binary',\n",
    "    'metric': 'logloss',\n",
    "    'is_unbalance': 'true',\n",
    "    'boosting': 'gbdt',\n",
    "    'num_leaves': 138,\n",
    "    'learning_rate': 0.05,\n",
    "    'verbose': 0\n",
    "}\n",
    "\n",
    "t = lightgbm.Dataset(train, label)\n",
    "\n",
    "model = lightgbm.train(parameters,\n",
    "                       t,\n",
    "                       num_boost_round=1000)"
   ]
  },
  {
   "cell_type": "code",
   "execution_count": null,
   "metadata": {},
   "outputs": [],
   "source": [
    "lightgbm.plot_importance(model)"
   ]
  },
  {
   "cell_type": "code",
   "execution_count": null,
   "metadata": {},
   "outputs": [],
   "source": [
    "preds = model.predict(predict.values)\n",
    "train_preds = model.predict(train.values)"
   ]
  },
  {
   "cell_type": "code",
   "execution_count": null,
   "metadata": {},
   "outputs": [],
   "source": [
    "preds = clf.predict_proba(predict.values)[:,1]\n",
    "train_preds = clf.predict_proba(train.values)[:, 1]\n",
    "\n",
    "print(preds)"
   ]
  },
  {
   "cell_type": "code",
   "execution_count": null,
   "metadata": {},
   "outputs": [],
   "source": [
    "from sklearn.metrics import log_loss \n",
    "\n",
    "print(log_loss(label, train_preds))"
   ]
  },
  {
   "cell_type": "code",
   "execution_count": null,
   "metadata": {},
   "outputs": [],
   "source": [
    "user_values = pd.DataFrame()\n",
    "user_values[\"customer_id\"] = can_choose[\"customer_id\"]\n",
    "user_values[\"value\"] = preds * can_choose[\"clv\"].values\n",
    "user_values[\"prob\"] = preds\n",
    "user_values[\"clv\"] = can_choose[\"clv\"].values\n",
    "user_values[\"churn\"] = can_choose[\"churned\"].values\n",
    "user_values[\"C\"] = can_choose[\"cluster\"]"
   ]
  },
  {
   "cell_type": "code",
   "execution_count": null,
   "metadata": {},
   "outputs": [],
   "source": [
    "users = 10000\n",
    "best_x_value = user_values.sort_values(by=\"value\").tail(users)\n",
    "best_x_prob = user_values.sort_values(by=\"clv\").tail(users)\n",
    "best_x_clv = user_values.sort_values(by=\"prob\").tail(users)"
   ]
  },
  {
   "cell_type": "code",
   "execution_count": null,
   "metadata": {},
   "outputs": [],
   "source": [
    "plt.title(\"Groups\")\n",
    "plot = \"value\"\n",
    "for name, g in user_values.groupby(\"C\"):\n",
    "    sb.distplot(g[plot], label=name)\n",
    "\n",
    "plt.legend()"
   ]
  },
  {
   "cell_type": "code",
   "execution_count": null,
   "metadata": {},
   "outputs": [],
   "source": [
    "plt.figure(figsize=(20, 10))\n",
    "sb.distplot(user_values[\"clv\"])"
   ]
  },
  {
   "cell_type": "code",
   "execution_count": null,
   "metadata": {},
   "outputs": [],
   "source": [
    "plt.figure(figsize=(20, 10))\n",
    "plt.subplot(3, 1, 1)\n",
    "sb.distplot(best_x_value[\"value\"])\n",
    "plt.subplot(3, 1, 2)\n",
    "\n",
    "sb.distplot(best_x_prob[\"prob\"])\n",
    "plt.subplot(3, 1, 3)\n",
    "\n",
    "sb.distplot(best_x_clv[\"clv\"])"
   ]
  },
  {
   "cell_type": "code",
   "execution_count": null,
   "metadata": {},
   "outputs": [],
   "source": [
    "sb.distplot(preds)"
   ]
  },
  {
   "cell_type": "code",
   "execution_count": null,
   "metadata": {},
   "outputs": [],
   "source": [
    "submission = pd.DataFrame()\n",
    "submission[\"customer_id\"] = best_x_value[\"customer_id\"]\n",
    "\n",
    "submission.to_csv(\"E.csv\")"
   ]
  }
 ],
 "metadata": {
  "kernelspec": {
   "display_name": "Python 3",
   "language": "python",
   "name": "python3"
  },
  "language_info": {
   "codemirror_mode": {
    "name": "ipython",
    "version": 3
   },
   "file_extension": ".py",
   "mimetype": "text/x-python",
   "name": "python",
   "nbconvert_exporter": "python",
   "pygments_lexer": "ipython3",
   "version": "3.6.8"
  }
 },
 "nbformat": 4,
 "nbformat_minor": 2
}
