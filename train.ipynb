{
 "cells": [
  {
   "cell_type": "code",
   "execution_count": 1,
   "metadata": {},
   "outputs": [],
   "source": [
    "\n",
    "import pandas as pd\n",
    "import matplotlib.pyplot as plt\n",
    "from IPython.display import display\n",
    "import lightgbm as lgb\n"
   ]
  },
  {
   "cell_type": "code",
   "execution_count": 2,
   "metadata": {},
   "outputs": [
    {
     "name": "stdout",
     "output_type": "stream",
     "text": [
      " customer_data.csv\t 'Gammathon attendee Instructions.pdf'\r\n",
      " example_submission.csv\r\n"
     ]
    }
   ],
   "source": [
    "path = '/data/GAMMA_hackathon/'\n",
    "!ls {path}\n",
    "df = pd.read_csv(path + 'customer_data.csv')"
   ]
  },
  {
   "cell_type": "code",
   "execution_count": null,
   "metadata": {},
   "outputs": [],
   "source": [
    "df2 = pd.read_csv('res.csv')"
   ]
  },
  {
   "cell_type": "code",
   "execution_count": null,
   "metadata": {},
   "outputs": [],
   "source": [
    "df2.churn.astype(float).mean()"
   ]
  },
  {
   "cell_type": "code",
   "execution_count": 3,
   "metadata": {},
   "outputs": [],
   "source": [
    "df = df.sort_values('month')"
   ]
  },
  {
   "cell_type": "code",
   "execution_count": 4,
   "metadata": {},
   "outputs": [
    {
     "data": {
      "text/html": [
       "<div>\n",
       "<style scoped>\n",
       "    .dataframe tbody tr th:only-of-type {\n",
       "        vertical-align: middle;\n",
       "    }\n",
       "\n",
       "    .dataframe tbody tr th {\n",
       "        vertical-align: top;\n",
       "    }\n",
       "\n",
       "    .dataframe thead th {\n",
       "        text-align: right;\n",
       "    }\n",
       "</style>\n",
       "<table border=\"1\" class=\"dataframe\">\n",
       "  <thead>\n",
       "    <tr style=\"text-align: right;\">\n",
       "      <th></th>\n",
       "      <th>customer_id</th>\n",
       "      <th>months_since_joined</th>\n",
       "      <th>referred_friends</th>\n",
       "      <th>transaction_count</th>\n",
       "      <th>transaction_value</th>\n",
       "      <th>clv</th>\n",
       "      <th>total_reward_points</th>\n",
       "      <th>earned_reward_points</th>\n",
       "    </tr>\n",
       "  </thead>\n",
       "  <tbody>\n",
       "    <tr>\n",
       "      <th>count</th>\n",
       "      <td>1.143614e+07</td>\n",
       "      <td>1.143614e+07</td>\n",
       "      <td>1.143614e+07</td>\n",
       "      <td>1.143614e+07</td>\n",
       "      <td>1.143614e+07</td>\n",
       "      <td>1.143614e+07</td>\n",
       "      <td>1.143614e+07</td>\n",
       "      <td>1.143614e+07</td>\n",
       "    </tr>\n",
       "    <tr>\n",
       "      <th>mean</th>\n",
       "      <td>6.086582e+05</td>\n",
       "      <td>2.210391e+01</td>\n",
       "      <td>9.669775e-01</td>\n",
       "      <td>2.936650e+01</td>\n",
       "      <td>1.504392e+02</td>\n",
       "      <td>3.600556e+03</td>\n",
       "      <td>5.648918e+03</td>\n",
       "      <td>2.941982e+02</td>\n",
       "    </tr>\n",
       "    <tr>\n",
       "      <th>std</th>\n",
       "      <td>2.847427e+05</td>\n",
       "      <td>1.978018e+01</td>\n",
       "      <td>9.877185e-01</td>\n",
       "      <td>1.471019e+01</td>\n",
       "      <td>1.645431e+02</td>\n",
       "      <td>5.712062e+03</td>\n",
       "      <td>1.374896e+04</td>\n",
       "      <td>5.555236e+02</td>\n",
       "    </tr>\n",
       "    <tr>\n",
       "      <th>min</th>\n",
       "      <td>2.000000e+00</td>\n",
       "      <td>1.000000e+00</td>\n",
       "      <td>0.000000e+00</td>\n",
       "      <td>0.000000e+00</td>\n",
       "      <td>0.000000e+00</td>\n",
       "      <td>0.000000e+00</td>\n",
       "      <td>0.000000e+00</td>\n",
       "      <td>0.000000e+00</td>\n",
       "    </tr>\n",
       "    <tr>\n",
       "      <th>25%</th>\n",
       "      <td>4.067390e+05</td>\n",
       "      <td>6.000000e+00</td>\n",
       "      <td>0.000000e+00</td>\n",
       "      <td>1.900000e+01</td>\n",
       "      <td>5.816020e+01</td>\n",
       "      <td>4.291993e+02</td>\n",
       "      <td>2.759791e+02</td>\n",
       "      <td>4.600000e+01</td>\n",
       "    </tr>\n",
       "    <tr>\n",
       "      <th>50%</th>\n",
       "      <td>6.195790e+05</td>\n",
       "      <td>1.600000e+01</td>\n",
       "      <td>1.000000e+00</td>\n",
       "      <td>2.600000e+01</td>\n",
       "      <td>8.558780e+01</td>\n",
       "      <td>1.130037e+03</td>\n",
       "      <td>1.068997e+03</td>\n",
       "      <td>1.000000e+02</td>\n",
       "    </tr>\n",
       "    <tr>\n",
       "      <th>75%</th>\n",
       "      <td>8.241590e+05</td>\n",
       "      <td>3.400000e+01</td>\n",
       "      <td>2.000000e+00</td>\n",
       "      <td>3.600000e+01</td>\n",
       "      <td>1.718362e+02</td>\n",
       "      <td>4.080206e+03</td>\n",
       "      <td>4.421000e+03</td>\n",
       "      <td>2.660000e+02</td>\n",
       "    </tr>\n",
       "    <tr>\n",
       "      <th>max</th>\n",
       "      <td>1.204356e+06</td>\n",
       "      <td>9.300000e+01</td>\n",
       "      <td>9.000000e+00</td>\n",
       "      <td>1.410000e+02</td>\n",
       "      <td>1.929116e+03</td>\n",
       "      <td>6.423930e+04</td>\n",
       "      <td>4.863967e+05</td>\n",
       "      <td>1.238400e+04</td>\n",
       "    </tr>\n",
       "  </tbody>\n",
       "</table>\n",
       "</div>"
      ],
      "text/plain": [
       "        customer_id  months_since_joined  referred_friends  transaction_count  \\\n",
       "count  1.143614e+07         1.143614e+07      1.143614e+07       1.143614e+07   \n",
       "mean   6.086582e+05         2.210391e+01      9.669775e-01       2.936650e+01   \n",
       "std    2.847427e+05         1.978018e+01      9.877185e-01       1.471019e+01   \n",
       "min    2.000000e+00         1.000000e+00      0.000000e+00       0.000000e+00   \n",
       "25%    4.067390e+05         6.000000e+00      0.000000e+00       1.900000e+01   \n",
       "50%    6.195790e+05         1.600000e+01      1.000000e+00       2.600000e+01   \n",
       "75%    8.241590e+05         3.400000e+01      2.000000e+00       3.600000e+01   \n",
       "max    1.204356e+06         9.300000e+01      9.000000e+00       1.410000e+02   \n",
       "\n",
       "       transaction_value           clv  total_reward_points  \\\n",
       "count       1.143614e+07  1.143614e+07         1.143614e+07   \n",
       "mean        1.504392e+02  3.600556e+03         5.648918e+03   \n",
       "std         1.645431e+02  5.712062e+03         1.374896e+04   \n",
       "min         0.000000e+00  0.000000e+00         0.000000e+00   \n",
       "25%         5.816020e+01  4.291993e+02         2.759791e+02   \n",
       "50%         8.558780e+01  1.130037e+03         1.068997e+03   \n",
       "75%         1.718362e+02  4.080206e+03         4.421000e+03   \n",
       "max         1.929116e+03  6.423930e+04         4.863967e+05   \n",
       "\n",
       "       earned_reward_points  \n",
       "count          1.143614e+07  \n",
       "mean           2.941982e+02  \n",
       "std            5.555236e+02  \n",
       "min            0.000000e+00  \n",
       "25%            4.600000e+01  \n",
       "50%            1.000000e+02  \n",
       "75%            2.660000e+02  \n",
       "max            1.238400e+04  "
      ]
     },
     "execution_count": 4,
     "metadata": {},
     "output_type": "execute_result"
    }
   ],
   "source": [
    "df.describe()"
   ]
  },
  {
   "cell_type": "code",
   "execution_count": 5,
   "metadata": {},
   "outputs": [],
   "source": [
    "train = (df.customer_id % 10) < 3"
   ]
  },
  {
   "cell_type": "code",
   "execution_count": 6,
   "metadata": {},
   "outputs": [],
   "source": [
    "cum_features =  ['referred_friends', 'transaction_count', 'transaction_value', 'earned_reward_points']"
   ]
  },
  {
   "cell_type": "code",
   "execution_count": 7,
   "metadata": {},
   "outputs": [],
   "source": [
    "for feat in cum_features:\n",
    "    df['cum_'+feat] = df.groupby('customer_id')[feat].cumsum()"
   ]
  },
  {
   "cell_type": "code",
   "execution_count": 8,
   "metadata": {},
   "outputs": [
    {
     "data": {
      "text/html": [
       "<div>\n",
       "<style scoped>\n",
       "    .dataframe tbody tr th:only-of-type {\n",
       "        vertical-align: middle;\n",
       "    }\n",
       "\n",
       "    .dataframe tbody tr th {\n",
       "        vertical-align: top;\n",
       "    }\n",
       "\n",
       "    .dataframe thead th {\n",
       "        text-align: right;\n",
       "    }\n",
       "</style>\n",
       "<table border=\"1\" class=\"dataframe\">\n",
       "  <thead>\n",
       "    <tr style=\"text-align: right;\">\n",
       "      <th></th>\n",
       "      <th>customer_id</th>\n",
       "      <th>months_since_joined</th>\n",
       "      <th>referred_friends</th>\n",
       "      <th>transaction_count</th>\n",
       "      <th>transaction_value</th>\n",
       "      <th>clv</th>\n",
       "      <th>total_reward_points</th>\n",
       "      <th>earned_reward_points</th>\n",
       "      <th>cum_referred_friends</th>\n",
       "      <th>cum_transaction_count</th>\n",
       "      <th>cum_transaction_value</th>\n",
       "      <th>cum_earned_reward_points</th>\n",
       "    </tr>\n",
       "  </thead>\n",
       "  <tbody>\n",
       "    <tr>\n",
       "      <th>count</th>\n",
       "      <td>1.143614e+07</td>\n",
       "      <td>1.143614e+07</td>\n",
       "      <td>1.143614e+07</td>\n",
       "      <td>1.143614e+07</td>\n",
       "      <td>1.143614e+07</td>\n",
       "      <td>1.143614e+07</td>\n",
       "      <td>1.143614e+07</td>\n",
       "      <td>1.143614e+07</td>\n",
       "      <td>1.143614e+07</td>\n",
       "      <td>1.143614e+07</td>\n",
       "      <td>1.143614e+07</td>\n",
       "      <td>1.143614e+07</td>\n",
       "    </tr>\n",
       "    <tr>\n",
       "      <th>mean</th>\n",
       "      <td>6.086582e+05</td>\n",
       "      <td>2.210391e+01</td>\n",
       "      <td>9.669775e-01</td>\n",
       "      <td>2.936650e+01</td>\n",
       "      <td>1.504392e+02</td>\n",
       "      <td>3.600556e+03</td>\n",
       "      <td>5.648918e+03</td>\n",
       "      <td>2.941982e+02</td>\n",
       "      <td>1.386087e+01</td>\n",
       "      <td>4.261847e+02</td>\n",
       "      <td>2.248129e+03</td>\n",
       "      <td>4.356872e+03</td>\n",
       "    </tr>\n",
       "    <tr>\n",
       "      <th>std</th>\n",
       "      <td>2.847427e+05</td>\n",
       "      <td>1.978018e+01</td>\n",
       "      <td>9.877185e-01</td>\n",
       "      <td>1.471019e+01</td>\n",
       "      <td>1.645431e+02</td>\n",
       "      <td>5.712062e+03</td>\n",
       "      <td>1.374896e+04</td>\n",
       "      <td>5.555236e+02</td>\n",
       "      <td>1.201230e+01</td>\n",
       "      <td>4.880609e+02</td>\n",
       "      <td>3.903332e+03</td>\n",
       "      <td>1.121846e+04</td>\n",
       "    </tr>\n",
       "    <tr>\n",
       "      <th>min</th>\n",
       "      <td>2.000000e+00</td>\n",
       "      <td>1.000000e+00</td>\n",
       "      <td>0.000000e+00</td>\n",
       "      <td>0.000000e+00</td>\n",
       "      <td>0.000000e+00</td>\n",
       "      <td>0.000000e+00</td>\n",
       "      <td>0.000000e+00</td>\n",
       "      <td>0.000000e+00</td>\n",
       "      <td>0.000000e+00</td>\n",
       "      <td>0.000000e+00</td>\n",
       "      <td>0.000000e+00</td>\n",
       "      <td>0.000000e+00</td>\n",
       "    </tr>\n",
       "    <tr>\n",
       "      <th>25%</th>\n",
       "      <td>4.067390e+05</td>\n",
       "      <td>6.000000e+00</td>\n",
       "      <td>0.000000e+00</td>\n",
       "      <td>1.900000e+01</td>\n",
       "      <td>5.816020e+01</td>\n",
       "      <td>4.291993e+02</td>\n",
       "      <td>2.759791e+02</td>\n",
       "      <td>4.600000e+01</td>\n",
       "      <td>4.000000e+00</td>\n",
       "      <td>9.200000e+01</td>\n",
       "      <td>2.778501e+02</td>\n",
       "      <td>2.300000e+02</td>\n",
       "    </tr>\n",
       "    <tr>\n",
       "      <th>50%</th>\n",
       "      <td>6.195790e+05</td>\n",
       "      <td>1.600000e+01</td>\n",
       "      <td>1.000000e+00</td>\n",
       "      <td>2.600000e+01</td>\n",
       "      <td>8.558780e+01</td>\n",
       "      <td>1.130037e+03</td>\n",
       "      <td>1.068997e+03</td>\n",
       "      <td>1.000000e+02</td>\n",
       "      <td>1.000000e+01</td>\n",
       "      <td>2.440000e+02</td>\n",
       "      <td>8.187363e+02</td>\n",
       "      <td>8.180000e+02</td>\n",
       "    </tr>\n",
       "    <tr>\n",
       "      <th>75%</th>\n",
       "      <td>8.241590e+05</td>\n",
       "      <td>3.400000e+01</td>\n",
       "      <td>2.000000e+00</td>\n",
       "      <td>3.600000e+01</td>\n",
       "      <td>1.718362e+02</td>\n",
       "      <td>4.080206e+03</td>\n",
       "      <td>4.421000e+03</td>\n",
       "      <td>2.660000e+02</td>\n",
       "      <td>2.100000e+01</td>\n",
       "      <td>5.780000e+02</td>\n",
       "      <td>2.363667e+03</td>\n",
       "      <td>3.169000e+03</td>\n",
       "    </tr>\n",
       "    <tr>\n",
       "      <th>max</th>\n",
       "      <td>1.204356e+06</td>\n",
       "      <td>9.300000e+01</td>\n",
       "      <td>9.000000e+00</td>\n",
       "      <td>1.410000e+02</td>\n",
       "      <td>1.929116e+03</td>\n",
       "      <td>6.423930e+04</td>\n",
       "      <td>4.863967e+05</td>\n",
       "      <td>1.238400e+04</td>\n",
       "      <td>7.500000e+01</td>\n",
       "      <td>5.436000e+03</td>\n",
       "      <td>6.588992e+04</td>\n",
       "      <td>3.943060e+05</td>\n",
       "    </tr>\n",
       "  </tbody>\n",
       "</table>\n",
       "</div>"
      ],
      "text/plain": [
       "        customer_id  months_since_joined  referred_friends  transaction_count  \\\n",
       "count  1.143614e+07         1.143614e+07      1.143614e+07       1.143614e+07   \n",
       "mean   6.086582e+05         2.210391e+01      9.669775e-01       2.936650e+01   \n",
       "std    2.847427e+05         1.978018e+01      9.877185e-01       1.471019e+01   \n",
       "min    2.000000e+00         1.000000e+00      0.000000e+00       0.000000e+00   \n",
       "25%    4.067390e+05         6.000000e+00      0.000000e+00       1.900000e+01   \n",
       "50%    6.195790e+05         1.600000e+01      1.000000e+00       2.600000e+01   \n",
       "75%    8.241590e+05         3.400000e+01      2.000000e+00       3.600000e+01   \n",
       "max    1.204356e+06         9.300000e+01      9.000000e+00       1.410000e+02   \n",
       "\n",
       "       transaction_value           clv  total_reward_points  \\\n",
       "count       1.143614e+07  1.143614e+07         1.143614e+07   \n",
       "mean        1.504392e+02  3.600556e+03         5.648918e+03   \n",
       "std         1.645431e+02  5.712062e+03         1.374896e+04   \n",
       "min         0.000000e+00  0.000000e+00         0.000000e+00   \n",
       "25%         5.816020e+01  4.291993e+02         2.759791e+02   \n",
       "50%         8.558780e+01  1.130037e+03         1.068997e+03   \n",
       "75%         1.718362e+02  4.080206e+03         4.421000e+03   \n",
       "max         1.929116e+03  6.423930e+04         4.863967e+05   \n",
       "\n",
       "       earned_reward_points  cum_referred_friends  cum_transaction_count  \\\n",
       "count          1.143614e+07          1.143614e+07           1.143614e+07   \n",
       "mean           2.941982e+02          1.386087e+01           4.261847e+02   \n",
       "std            5.555236e+02          1.201230e+01           4.880609e+02   \n",
       "min            0.000000e+00          0.000000e+00           0.000000e+00   \n",
       "25%            4.600000e+01          4.000000e+00           9.200000e+01   \n",
       "50%            1.000000e+02          1.000000e+01           2.440000e+02   \n",
       "75%            2.660000e+02          2.100000e+01           5.780000e+02   \n",
       "max            1.238400e+04          7.500000e+01           5.436000e+03   \n",
       "\n",
       "       cum_transaction_value  cum_earned_reward_points  \n",
       "count           1.143614e+07              1.143614e+07  \n",
       "mean            2.248129e+03              4.356872e+03  \n",
       "std             3.903332e+03              1.121846e+04  \n",
       "min             0.000000e+00              0.000000e+00  \n",
       "25%             2.778501e+02              2.300000e+02  \n",
       "50%             8.187363e+02              8.180000e+02  \n",
       "75%             2.363667e+03              3.169000e+03  \n",
       "max             6.588992e+04              3.943060e+05  "
      ]
     },
     "execution_count": 8,
     "metadata": {},
     "output_type": "execute_result"
    }
   ],
   "source": [
    "df.describe()"
   ]
  },
  {
   "cell_type": "code",
   "execution_count": null,
   "metadata": {},
   "outputs": [],
   "source": [
    "df.dtypes"
   ]
  },
  {
   "cell_type": "code",
   "execution_count": 32,
   "metadata": {},
   "outputs": [],
   "source": [
    "cats = ['cluster']\n",
    "for cat in cats:\n",
    "    df[cat] = pd.Categorical(df[cat]).codes"
   ]
  },
  {
   "cell_type": "code",
   "execution_count": null,
   "metadata": {},
   "outputs": [],
   "source": [
    "cont = ['cluster']\n",
    "for cat in cats:\n",
    "    df[cat] = pd.Categorical(df[cat]).codes"
   ]
  },
  {
   "cell_type": "code",
   "execution_count": 33,
   "metadata": {},
   "outputs": [],
   "source": [
    "features = cum_features + ['cum_' + feat for feat in cum_features] + ['cluster', 'clv']\n"
   ]
  },
  {
   "cell_type": "code",
   "execution_count": null,
   "metadata": {},
   "outputs": [],
   "source": [
    "lgb."
   ]
  },
  {
   "cell_type": "code",
   "execution_count": 73,
   "metadata": {},
   "outputs": [
    {
     "name": "stdout",
     "output_type": "stream",
     "text": [
      "Starting training...\n",
      "[1]\tvalid_0's binary_logloss: 0.179707\n",
      "Training until validation scores don't improve for 5 rounds\n",
      "[2]\tvalid_0's binary_logloss: 0.177029\n",
      "[3]\tvalid_0's binary_logloss: 0.174763\n",
      "[4]\tvalid_0's binary_logloss: 0.172952\n",
      "[5]\tvalid_0's binary_logloss: 0.171558\n",
      "[6]\tvalid_0's binary_logloss: 0.170409\n",
      "[7]\tvalid_0's binary_logloss: 0.169449\n",
      "[8]\tvalid_0's binary_logloss: 0.168616\n",
      "[9]\tvalid_0's binary_logloss: 0.167901\n",
      "[10]\tvalid_0's binary_logloss: 0.167248\n",
      "[11]\tvalid_0's binary_logloss: 0.16668\n",
      "[12]\tvalid_0's binary_logloss: 0.166211\n",
      "[13]\tvalid_0's binary_logloss: 0.165765\n",
      "[14]\tvalid_0's binary_logloss: 0.165383\n",
      "[15]\tvalid_0's binary_logloss: 0.165052\n",
      "[16]\tvalid_0's binary_logloss: 0.16475\n",
      "[17]\tvalid_0's binary_logloss: 0.164469\n",
      "[18]\tvalid_0's binary_logloss: 0.16421\n",
      "[19]\tvalid_0's binary_logloss: 0.163995\n",
      "[20]\tvalid_0's binary_logloss: 0.163793\n",
      "Did not meet early stopping. Best iteration is:\n",
      "[20]\tvalid_0's binary_logloss: 0.163793\n"
     ]
    }
   ],
   "source": [
    "df['label'] = df.groupby('customer_id').churned.shift(-1)\n",
    "df_clean = df.dropna(axis=0, subset=['label'])\n",
    "train = (df_clean.customer_id % 10) < 8\n",
    "\n",
    "x_train = df_clean[train]\n",
    "x_test = df_clean[~train]\n",
    "\n",
    "y_train = df_clean[train]['label'].astype(bool)\n",
    "y_test = df_clean[~train]['label'].astype(bool)\n",
    "\n",
    "# create dataset for lightgbm\n",
    "lgb_train = lgb.Dataset(x_train[features], y_train)\n",
    "lgb_eval = lgb.Dataset(x_test[features], y_test, reference=lgb_train)\n",
    "\n",
    "# specify your configurations as a dict\n",
    "params = {\n",
    "    'boosting_type': 'gbdt',\n",
    "    'objective': 'binary',\n",
    "    'application': 'binary',\n",
    "    'verbose': 0\n",
    "}\n",
    "\n",
    "print('Starting training...')\n",
    "# train\n",
    "gbm = lgb.train(params,\n",
    "                lgb_train,\n",
    "                num_boost_round=20,\n",
    "                valid_sets=lgb_eval,\n",
    "                early_stopping_rounds=5)\n"
   ]
  },
  {
   "cell_type": "code",
   "execution_count": 67,
   "metadata": {},
   "outputs": [
    {
     "ename": "AttributeError",
     "evalue": "'Booster' object has no attribute 'train_set'",
     "output_type": "error",
     "traceback": [
      "\u001b[0;31m---------------------------------------------------------------------------\u001b[0m",
      "\u001b[0;31mAttributeError\u001b[0m                            Traceback (most recent call last)",
      "\u001b[0;32m<ipython-input-67-00ea5953983f>\u001b[0m in \u001b[0;36m<module>\u001b[0;34m\u001b[0m\n\u001b[0;32m----> 1\u001b[0;31m \u001b[0mgbm\u001b[0m\u001b[0;34m.\u001b[0m\u001b[0meval\u001b[0m\u001b[0;34m(\u001b[0m\u001b[0mlgb_eval\u001b[0m\u001b[0;34m,\u001b[0m \u001b[0;34m'eval'\u001b[0m\u001b[0;34m)\u001b[0m\u001b[0;34m\u001b[0m\u001b[0;34m\u001b[0m\u001b[0m\n\u001b[0m",
      "\u001b[0;32m~/code/BCGHack/venv/lib/python3.7/site-packages/lightgbm/basic.py\u001b[0m in \u001b[0;36meval\u001b[0;34m(self, data, name, feval)\u001b[0m\n\u001b[1;32m   2061\u001b[0m             \u001b[0;32mraise\u001b[0m \u001b[0mTypeError\u001b[0m\u001b[0;34m(\u001b[0m\u001b[0;34m\"Can only eval for Dataset instance\"\u001b[0m\u001b[0;34m)\u001b[0m\u001b[0;34m\u001b[0m\u001b[0;34m\u001b[0m\u001b[0m\n\u001b[1;32m   2062\u001b[0m         \u001b[0mdata_idx\u001b[0m \u001b[0;34m=\u001b[0m \u001b[0;34m-\u001b[0m\u001b[0;36m1\u001b[0m\u001b[0;34m\u001b[0m\u001b[0;34m\u001b[0m\u001b[0m\n\u001b[0;32m-> 2063\u001b[0;31m         \u001b[0;32mif\u001b[0m \u001b[0mdata\u001b[0m \u001b[0;32mis\u001b[0m \u001b[0mself\u001b[0m\u001b[0;34m.\u001b[0m\u001b[0mtrain_set\u001b[0m\u001b[0;34m:\u001b[0m\u001b[0;34m\u001b[0m\u001b[0;34m\u001b[0m\u001b[0m\n\u001b[0m\u001b[1;32m   2064\u001b[0m             \u001b[0mdata_idx\u001b[0m \u001b[0;34m=\u001b[0m \u001b[0;36m0\u001b[0m\u001b[0;34m\u001b[0m\u001b[0;34m\u001b[0m\u001b[0m\n\u001b[1;32m   2065\u001b[0m         \u001b[0;32melse\u001b[0m\u001b[0;34m:\u001b[0m\u001b[0;34m\u001b[0m\u001b[0;34m\u001b[0m\u001b[0m\n",
      "\u001b[0;31mAttributeError\u001b[0m: 'Booster' object has no attribute 'train_set'"
     ]
    }
   ],
   "source": [
    "gbm.eval(lgb_eval, 'eval')"
   ]
  },
  {
   "cell_type": "code",
   "execution_count": 75,
   "metadata": {},
   "outputs": [
    {
     "name": "stderr",
     "output_type": "stream",
     "text": [
      "/home/anton/code/BCGHack/venv/lib/python3.7/site-packages/ipykernel_launcher.py:1: SettingWithCopyWarning: \n",
      "A value is trying to be set on a copy of a slice from a DataFrame.\n",
      "Try using .loc[row_indexer,col_indexer] = value instead\n",
      "\n",
      "See the caveats in the documentation: http://pandas.pydata.org/pandas-docs/stable/user_guide/indexing.html#returning-a-view-versus-a-copy\n",
      "  \"\"\"Entry point for launching an IPython kernel.\n",
      "/home/anton/code/BCGHack/venv/lib/python3.7/site-packages/ipykernel_launcher.py:2: SettingWithCopyWarning: \n",
      "A value is trying to be set on a copy of a slice from a DataFrame.\n",
      "Try using .loc[row_indexer,col_indexer] = value instead\n",
      "\n",
      "See the caveats in the documentation: http://pandas.pydata.org/pandas-docs/stable/user_guide/indexing.html#returning-a-view-versus-a-copy\n",
      "  \n"
     ]
    }
   ],
   "source": [
    "x_train['p'] = gbm.predict(x_train[features])\n",
    "x_test['p'] = gbm.predict(x_test[features])"
   ]
  },
  {
   "cell_type": "code",
   "execution_count": 78,
   "metadata": {},
   "outputs": [],
   "source": [
    "df_p = pd.concat([x_train, x_test])"
   ]
  },
  {
   "cell_type": "code",
   "execution_count": 79,
   "metadata": {},
   "outputs": [],
   "source": [
    "df_p['value'] = df_p['p'] * df_p['clv']"
   ]
  },
  {
   "cell_type": "code",
   "execution_count": 80,
   "metadata": {},
   "outputs": [
    {
     "data": {
      "text/plain": [
       "<matplotlib.axes._subplots.AxesSubplot at 0x7f41b8b62eb8>"
      ]
     },
     "execution_count": 80,
     "metadata": {},
     "output_type": "execute_result"
    },
    {
     "data": {
      "image/png": "[encoded data removed]",
      "text/plain": [
       "<Figure size 432x288 with 1 Axes>"
      ]
     },
     "metadata": {
      "needs_background": "light"
     },
     "output_type": "display_data"
    }
   ],
   "source": [
    "df_p.value.hist(bins=50)"
   ]
  },
  {
   "cell_type": "code",
   "execution_count": null,
   "metadata": {},
   "outputs": [],
   "source": [
    "best_step_1 = df_p.sort_values('value').iloc[-10000:]"
   ]
  },
  {
   "cell_type": "code",
   "execution_count": null,
   "metadata": {},
   "outputs": [],
   "source": [
    "best_step_1.p.mean()"
   ]
  },
  {
   "cell_type": "code",
   "execution_count": 83,
   "metadata": {},
   "outputs": [
    {
     "data": {
      "text/plain": [
       "<matplotlib.axes._subplots.AxesSubplot at 0x7f41b8b15f28>"
      ]
     },
     "execution_count": 83,
     "metadata": {},
     "output_type": "execute_result"
    },
    {
     "data": {
      "image/png": "[encoded data removed]",
      "text/plain": [
       "<Figure size 432x288 with 1 Axes>"
      ]
     },
     "metadata": {
      "needs_background": "light"
     },
     "output_type": "display_data"
    }
   ],
   "source": [
    "\n",
    "best_step_1.value.hist(bins=40)"
   ]
  },
  {
   "cell_type": "code",
   "execution_count": 85,
   "metadata": {},
   "outputs": [
    {
     "data": {
      "text/plain": [
       "1    6705\n",
       "2    2425\n",
       "0     870\n",
       "Name: cluster, dtype: int64"
      ]
     },
     "execution_count": 85,
     "metadata": {},
     "output_type": "execute_result"
    }
   ],
   "source": [
    "df_p.sort_values('value').iloc[-10000:].cluster.value_counts()"
   ]
  },
  {
   "cell_type": "code",
   "execution_count": 87,
   "metadata": {},
   "outputs": [
    {
     "name": "stderr",
     "output_type": "stream",
     "text": [
      "/home/anton/code/BCGHack/venv/lib/python3.7/site-packages/ipykernel_launcher.py:1: FutureWarning: The signature of `Series.to_csv` was aligned to that of `DataFrame.to_csv`, and argument 'header' will change its default value from False to True: please pass an explicit value to suppress this warning.\n",
      "  \"\"\"Entry point for launching an IPython kernel.\n"
     ]
    }
   ],
   "source": [
    "df_p.sort_values('value').iloc[-10000:].customer_id.to_csv('submission.csv', index=False)"
   ]
  },
  {
   "cell_type": "code",
   "execution_count": 86,
   "metadata": {},
   "outputs": [],
   "source": [
    "df.to_csv?"
   ]
  },
  {
   "cell_type": "code",
   "execution_count": 22,
   "metadata": {},
   "outputs": [
    {
     "data": {
      "text/html": [
       "<div>\n",
       "<style scoped>\n",
       "    .dataframe tbody tr th:only-of-type {\n",
       "        vertical-align: middle;\n",
       "    }\n",
       "\n",
       "    .dataframe tbody tr th {\n",
       "        vertical-align: top;\n",
       "    }\n",
       "\n",
       "    .dataframe thead th {\n",
       "        text-align: right;\n",
       "    }\n",
       "</style>\n",
       "<table border=\"1\" class=\"dataframe\">\n",
       "  <thead>\n",
       "    <tr style=\"text-align: right;\">\n",
       "      <th></th>\n",
       "      <th>referred_friends</th>\n",
       "      <th>transaction_count</th>\n",
       "      <th>transaction_value</th>\n",
       "      <th>earned_reward_points</th>\n",
       "      <th>cum_referred_friends</th>\n",
       "      <th>cum_transaction_count</th>\n",
       "      <th>cum_transaction_value</th>\n",
       "      <th>cum_earned_reward_points</th>\n",
       "      <th>cluster</th>\n",
       "      <th>clv</th>\n",
       "    </tr>\n",
       "  </thead>\n",
       "  <tbody>\n",
       "    <tr>\n",
       "      <th>343319</th>\n",
       "      <td>1</td>\n",
       "      <td>16.0</td>\n",
       "      <td>49.038831</td>\n",
       "      <td>32.0</td>\n",
       "      <td>1</td>\n",
       "      <td>31.0</td>\n",
       "      <td>94.093606</td>\n",
       "      <td>62.0</td>\n",
       "      <td>A</td>\n",
       "      <td>379.213933</td>\n",
       "    </tr>\n",
       "    <tr>\n",
       "      <th>343318</th>\n",
       "      <td>0</td>\n",
       "      <td>18.0</td>\n",
       "      <td>70.531096</td>\n",
       "      <td>54.0</td>\n",
       "      <td>1</td>\n",
       "      <td>34.0</td>\n",
       "      <td>129.344747</td>\n",
       "      <td>86.0</td>\n",
       "      <td>A</td>\n",
       "      <td>545.412153</td>\n",
       "    </tr>\n",
       "    <tr>\n",
       "      <th>343317</th>\n",
       "      <td>0</td>\n",
       "      <td>15.0</td>\n",
       "      <td>47.805180</td>\n",
       "      <td>30.0</td>\n",
       "      <td>3</td>\n",
       "      <td>31.0</td>\n",
       "      <td>95.487264</td>\n",
       "      <td>62.0</td>\n",
       "      <td>C</td>\n",
       "      <td>369.674190</td>\n",
       "    </tr>\n",
       "    <tr>\n",
       "      <th>343315</th>\n",
       "      <td>1</td>\n",
       "      <td>25.0</td>\n",
       "      <td>71.703089</td>\n",
       "      <td>75.0</td>\n",
       "      <td>2</td>\n",
       "      <td>49.0</td>\n",
       "      <td>144.292021</td>\n",
       "      <td>147.0</td>\n",
       "      <td>B</td>\n",
       "      <td>554.475087</td>\n",
       "    </tr>\n",
       "    <tr>\n",
       "      <th>343314</th>\n",
       "      <td>1</td>\n",
       "      <td>20.0</td>\n",
       "      <td>69.553305</td>\n",
       "      <td>60.0</td>\n",
       "      <td>1</td>\n",
       "      <td>40.0</td>\n",
       "      <td>137.524225</td>\n",
       "      <td>120.0</td>\n",
       "      <td>C</td>\n",
       "      <td>537.850958</td>\n",
       "    </tr>\n",
       "  </tbody>\n",
       "</table>\n",
       "</div>"
      ],
      "text/plain": [
       "        referred_friends  transaction_count  transaction_value  \\\n",
       "343319                 1               16.0          49.038831   \n",
       "343318                 0               18.0          70.531096   \n",
       "343317                 0               15.0          47.805180   \n",
       "343315                 1               25.0          71.703089   \n",
       "343314                 1               20.0          69.553305   \n",
       "\n",
       "        earned_reward_points  cum_referred_friends  cum_transaction_count  \\\n",
       "343319                  32.0                     1                   31.0   \n",
       "343318                  54.0                     1                   34.0   \n",
       "343317                  30.0                     3                   31.0   \n",
       "343315                  75.0                     2                   49.0   \n",
       "343314                  60.0                     1                   40.0   \n",
       "\n",
       "        cum_transaction_value  cum_earned_reward_points cluster         clv  \n",
       "343319              94.093606                      62.0       A  379.213933  \n",
       "343318             129.344747                      86.0       A  545.412153  \n",
       "343317              95.487264                      62.0       C  369.674190  \n",
       "343315             144.292021                     147.0       B  554.475087  \n",
       "343314             137.524225                     120.0       C  537.850958  "
      ]
     },
     "execution_count": 22,
     "metadata": {},
     "output_type": "execute_result"
    }
   ],
   "source": [
    "x_train.head()"
   ]
  },
  {
   "cell_type": "code",
   "execution_count": 24,
   "metadata": {},
   "outputs": [],
   "source": [
    "from sklearn.linear_model import LinearRegression, LogisticRegression"
   ]
  },
  {
   "cell_type": "code",
   "execution_count": 40,
   "metadata": {},
   "outputs": [
    {
     "name": "stderr",
     "output_type": "stream",
     "text": [
      "/home/anton/code/BCGHack/venv/lib/python3.7/site-packages/sklearn/linear_model/logistic.py:432: FutureWarning: Default solver will be changed to 'lbfgs' in 0.22. Specify a solver to silence this warning.\n",
      "  FutureWarning)\n"
     ]
    },
    {
     "ename": "ValueError",
     "evalue": "This solver needs samples of at least 2 classes in the data, but the data contains only one class: False",
     "output_type": "error",
     "traceback": [
      "\u001b[0;31m---------------------------------------------------------------------------\u001b[0m",
      "\u001b[0;31mValueError\u001b[0m                                Traceback (most recent call last)",
      "\u001b[0;32m<ipython-input-40-23c2de0dfffe>\u001b[0m in \u001b[0;36m<module>\u001b[0;34m\u001b[0m\n\u001b[1;32m      1\u001b[0m \u001b[0mlr\u001b[0m \u001b[0;34m=\u001b[0m \u001b[0mLogisticRegression\u001b[0m\u001b[0;34m(\u001b[0m\u001b[0;34m)\u001b[0m\u001b[0;34m\u001b[0m\u001b[0;34m\u001b[0m\u001b[0m\n\u001b[0;32m----> 2\u001b[0;31m \u001b[0mlr\u001b[0m\u001b[0;34m.\u001b[0m\u001b[0mfit\u001b[0m\u001b[0;34m(\u001b[0m\u001b[0mx_train\u001b[0m\u001b[0;34m,\u001b[0m \u001b[0my_train\u001b[0m\u001b[0;34m)\u001b[0m\u001b[0;34m\u001b[0m\u001b[0;34m\u001b[0m\u001b[0m\n\u001b[0m",
      "\u001b[0;32m~/code/BCGHack/venv/lib/python3.7/site-packages/sklearn/linear_model/logistic.py\u001b[0m in \u001b[0;36mfit\u001b[0;34m(self, X, y, sample_weight)\u001b[0m\n\u001b[1;32m   1547\u001b[0m                 \u001b[0mself\u001b[0m\u001b[0;34m.\u001b[0m\u001b[0mclass_weight\u001b[0m\u001b[0;34m,\u001b[0m \u001b[0mself\u001b[0m\u001b[0;34m.\u001b[0m\u001b[0mpenalty\u001b[0m\u001b[0;34m,\u001b[0m \u001b[0mself\u001b[0m\u001b[0;34m.\u001b[0m\u001b[0mdual\u001b[0m\u001b[0;34m,\u001b[0m \u001b[0mself\u001b[0m\u001b[0;34m.\u001b[0m\u001b[0mverbose\u001b[0m\u001b[0;34m,\u001b[0m\u001b[0;34m\u001b[0m\u001b[0;34m\u001b[0m\u001b[0m\n\u001b[1;32m   1548\u001b[0m                 \u001b[0mself\u001b[0m\u001b[0;34m.\u001b[0m\u001b[0mmax_iter\u001b[0m\u001b[0;34m,\u001b[0m \u001b[0mself\u001b[0m\u001b[0;34m.\u001b[0m\u001b[0mtol\u001b[0m\u001b[0;34m,\u001b[0m \u001b[0mself\u001b[0m\u001b[0;34m.\u001b[0m\u001b[0mrandom_state\u001b[0m\u001b[0;34m,\u001b[0m\u001b[0;34m\u001b[0m\u001b[0;34m\u001b[0m\u001b[0m\n\u001b[0;32m-> 1549\u001b[0;31m                 sample_weight=sample_weight)\n\u001b[0m\u001b[1;32m   1550\u001b[0m             \u001b[0mself\u001b[0m\u001b[0;34m.\u001b[0m\u001b[0mn_iter_\u001b[0m \u001b[0;34m=\u001b[0m \u001b[0mnp\u001b[0m\u001b[0;34m.\u001b[0m\u001b[0marray\u001b[0m\u001b[0;34m(\u001b[0m\u001b[0;34m[\u001b[0m\u001b[0mn_iter_\u001b[0m\u001b[0;34m]\u001b[0m\u001b[0;34m)\u001b[0m\u001b[0;34m\u001b[0m\u001b[0;34m\u001b[0m\u001b[0m\n\u001b[1;32m   1551\u001b[0m             \u001b[0;32mreturn\u001b[0m \u001b[0mself\u001b[0m\u001b[0;34m\u001b[0m\u001b[0;34m\u001b[0m\u001b[0m\n",
      "\u001b[0;32m~/code/BCGHack/venv/lib/python3.7/site-packages/sklearn/svm/base.py\u001b[0m in \u001b[0;36m_fit_liblinear\u001b[0;34m(X, y, C, fit_intercept, intercept_scaling, class_weight, penalty, dual, verbose, max_iter, tol, random_state, multi_class, loss, epsilon, sample_weight)\u001b[0m\n\u001b[1;32m    877\u001b[0m             raise ValueError(\"This solver needs samples of at least 2 classes\"\n\u001b[1;32m    878\u001b[0m                              \u001b[0;34m\" in the data, but the data contains only one\"\u001b[0m\u001b[0;34m\u001b[0m\u001b[0;34m\u001b[0m\u001b[0m\n\u001b[0;32m--> 879\u001b[0;31m                              \" class: %r\" % classes_[0])\n\u001b[0m\u001b[1;32m    880\u001b[0m \u001b[0;34m\u001b[0m\u001b[0m\n\u001b[1;32m    881\u001b[0m         \u001b[0mclass_weight_\u001b[0m \u001b[0;34m=\u001b[0m \u001b[0mcompute_class_weight\u001b[0m\u001b[0;34m(\u001b[0m\u001b[0mclass_weight\u001b[0m\u001b[0;34m,\u001b[0m \u001b[0mclasses_\u001b[0m\u001b[0;34m,\u001b[0m \u001b[0my\u001b[0m\u001b[0;34m)\u001b[0m\u001b[0;34m\u001b[0m\u001b[0;34m\u001b[0m\u001b[0m\n",
      "\u001b[0;31mValueError\u001b[0m: This solver needs samples of at least 2 classes in the data, but the data contains only one class: False"
     ]
    }
   ],
   "source": [
    "lr = LogisticRegression()\n",
    "lr.fit(x_train, y_train)"
   ]
  },
  {
   "cell_type": "code",
   "execution_count": 35,
   "metadata": {},
   "outputs": [
    {
     "data": {
      "text/plain": [
       "referred_friends              int64\n",
       "transaction_count           float64\n",
       "transaction_value           float64\n",
       "earned_reward_points        float64\n",
       "cum_referred_friends          int64\n",
       "cum_transaction_count       float64\n",
       "cum_transaction_value       float64\n",
       "cum_earned_reward_points    float64\n",
       "cluster                        int8\n",
       "clv                         float64\n",
       "dtype: object"
      ]
     },
     "execution_count": 35,
     "metadata": {},
     "output_type": "execute_result"
    }
   ],
   "source": [
    "x_train.dtypes"
   ]
  },
  {
   "cell_type": "code",
   "execution_count": 64,
   "metadata": {},
   "outputs": [
    {
     "data": {
      "text/plain": [
       "False    10123714\n",
       "True       475591\n",
       "Name: churned, dtype: int64"
      ]
     },
     "execution_count": 64,
     "metadata": {},
     "output_type": "execute_result"
    }
   ],
   "source": [
    "df.groupby('customer_id').churned.shift(-1).value_counts()"
   ]
  },
  {
   "cell_type": "code",
   "execution_count": 65,
   "metadata": {},
   "outputs": [
    {
     "data": {
      "text/plain": [
       "False    10900272\n",
       "True       535866\n",
       "Name: churned, dtype: int64"
      ]
     },
     "execution_count": 65,
     "metadata": {},
     "output_type": "execute_result"
    }
   ],
   "source": [
    "df.churned.value_counts()"
   ]
  },
  {
   "cell_type": "code",
   "execution_count": null,
   "metadata": {},
   "outputs": [],
   "source": []
  }
 ],
 "metadata": {
  "kernelspec": {
   "display_name": "Python 3",
   "language": "python",
   "name": "python3"
  },
  "language_info": {
   "codemirror_mode": {
    "name": "ipython",
    "version": 3
   },
   "file_extension": ".py",
   "mimetype": "text/x-python",
   "name": "python",
   "nbconvert_exporter": "python",
   "pygments_lexer": "ipython3",
   "version": "3.7.3"
  }
 },
 "nbformat": 4,
 "nbformat_minor": 4
}
