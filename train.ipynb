{
 "cells": [
  {
   "cell_type": "code",
   "execution_count": 1,
   "metadata": {},
   "outputs": [],
   "source": [
    "\n",
    "import pandas as pd\n",
    "import matplotlib.pyplot as plt\n",
    "from IPython.display import display\n",
    "import lightgbm as lgb\n"
   ]
  },
  {
   "cell_type": "code",
   "execution_count": 48,
   "metadata": {},
   "outputs": [
    {
     "name": "stdout",
     "output_type": "stream",
     "text": [
      " customer_data.csv\t 'Gammathon attendee Instructions.pdf'\r\n",
      " example_submission.csv\r\n"
     ]
    }
   ],
   "source": [
    "path = '/data/GAMMA_hackathon/'\n",
    "!ls {path}\n",
    "df = pd.read_csv(path + 'customer_data.csv')"
   ]
  },
  {
   "cell_type": "code",
   "execution_count": 60,
   "metadata": {},
   "outputs": [],
   "source": [
    "submission = pd.read_csv('e.csv')"
   ]
  },
  {
   "cell_type": "code",
   "execution_count": 3,
   "metadata": {},
   "outputs": [],
   "source": [
    "df2 = pd.read_csv('eres.csv')"
   ]
  },
  {
   "cell_type": "code",
   "execution_count": 5,
   "metadata": {},
   "outputs": [
    {
     "data": {
      "text/plain": [
       "0.043179773230141626"
      ]
     },
     "execution_count": 5,
     "metadata": {},
     "output_type": "execute_result"
    }
   ],
   "source": [
    "df2.churned.astype(float).mean()"
   ]
  },
  {
   "cell_type": "code",
   "execution_count": 49,
   "metadata": {},
   "outputs": [],
   "source": [
    "df = df.sort_values('month')"
   ]
  },
  {
   "cell_type": "code",
   "execution_count": 50,
   "metadata": {
    "scrolled": true
   },
   "outputs": [
    {
     "data": {
      "text/html": [
       "<div>\n",
       "<style scoped>\n",
       "    .dataframe tbody tr th:only-of-type {\n",
       "        vertical-align: middle;\n",
       "    }\n",
       "\n",
       "    .dataframe tbody tr th {\n",
       "        vertical-align: top;\n",
       "    }\n",
       "\n",
       "    .dataframe thead th {\n",
       "        text-align: right;\n",
       "    }\n",
       "</style>\n",
       "<table border=\"1\" class=\"dataframe\">\n",
       "  <thead>\n",
       "    <tr style=\"text-align: right;\">\n",
       "      <th></th>\n",
       "      <th>customer_id</th>\n",
       "      <th>months_since_joined</th>\n",
       "      <th>referred_friends</th>\n",
       "      <th>transaction_count</th>\n",
       "      <th>transaction_value</th>\n",
       "      <th>clv</th>\n",
       "      <th>total_reward_points</th>\n",
       "      <th>earned_reward_points</th>\n",
       "    </tr>\n",
       "  </thead>\n",
       "  <tbody>\n",
       "    <tr>\n",
       "      <th>count</th>\n",
       "      <td>1.143614e+07</td>\n",
       "      <td>1.143614e+07</td>\n",
       "      <td>1.143614e+07</td>\n",
       "      <td>1.143614e+07</td>\n",
       "      <td>1.143614e+07</td>\n",
       "      <td>1.143614e+07</td>\n",
       "      <td>1.143614e+07</td>\n",
       "      <td>1.143614e+07</td>\n",
       "    </tr>\n",
       "    <tr>\n",
       "      <th>mean</th>\n",
       "      <td>6.086582e+05</td>\n",
       "      <td>2.210391e+01</td>\n",
       "      <td>9.669775e-01</td>\n",
       "      <td>2.936650e+01</td>\n",
       "      <td>1.504392e+02</td>\n",
       "      <td>3.600556e+03</td>\n",
       "      <td>5.648918e+03</td>\n",
       "      <td>2.941982e+02</td>\n",
       "    </tr>\n",
       "    <tr>\n",
       "      <th>std</th>\n",
       "      <td>2.847427e+05</td>\n",
       "      <td>1.978018e+01</td>\n",
       "      <td>9.877185e-01</td>\n",
       "      <td>1.471019e+01</td>\n",
       "      <td>1.645431e+02</td>\n",
       "      <td>5.712062e+03</td>\n",
       "      <td>1.374896e+04</td>\n",
       "      <td>5.555236e+02</td>\n",
       "    </tr>\n",
       "    <tr>\n",
       "      <th>min</th>\n",
       "      <td>2.000000e+00</td>\n",
       "      <td>1.000000e+00</td>\n",
       "      <td>0.000000e+00</td>\n",
       "      <td>0.000000e+00</td>\n",
       "      <td>0.000000e+00</td>\n",
       "      <td>0.000000e+00</td>\n",
       "      <td>0.000000e+00</td>\n",
       "      <td>0.000000e+00</td>\n",
       "    </tr>\n",
       "    <tr>\n",
       "      <th>25%</th>\n",
       "      <td>4.067390e+05</td>\n",
       "      <td>6.000000e+00</td>\n",
       "      <td>0.000000e+00</td>\n",
       "      <td>1.900000e+01</td>\n",
       "      <td>5.816020e+01</td>\n",
       "      <td>4.291993e+02</td>\n",
       "      <td>2.759791e+02</td>\n",
       "      <td>4.600000e+01</td>\n",
       "    </tr>\n",
       "    <tr>\n",
       "      <th>50%</th>\n",
       "      <td>6.195790e+05</td>\n",
       "      <td>1.600000e+01</td>\n",
       "      <td>1.000000e+00</td>\n",
       "      <td>2.600000e+01</td>\n",
       "      <td>8.558780e+01</td>\n",
       "      <td>1.130037e+03</td>\n",
       "      <td>1.068997e+03</td>\n",
       "      <td>1.000000e+02</td>\n",
       "    </tr>\n",
       "    <tr>\n",
       "      <th>75%</th>\n",
       "      <td>8.241590e+05</td>\n",
       "      <td>3.400000e+01</td>\n",
       "      <td>2.000000e+00</td>\n",
       "      <td>3.600000e+01</td>\n",
       "      <td>1.718362e+02</td>\n",
       "      <td>4.080206e+03</td>\n",
       "      <td>4.421000e+03</td>\n",
       "      <td>2.660000e+02</td>\n",
       "    </tr>\n",
       "    <tr>\n",
       "      <th>max</th>\n",
       "      <td>1.204356e+06</td>\n",
       "      <td>9.300000e+01</td>\n",
       "      <td>9.000000e+00</td>\n",
       "      <td>1.410000e+02</td>\n",
       "      <td>1.929116e+03</td>\n",
       "      <td>6.423930e+04</td>\n",
       "      <td>4.863967e+05</td>\n",
       "      <td>1.238400e+04</td>\n",
       "    </tr>\n",
       "  </tbody>\n",
       "</table>\n",
       "</div>"
      ],
      "text/plain": [
       "        customer_id  months_since_joined  referred_friends  transaction_count  \\\n",
       "count  1.143614e+07         1.143614e+07      1.143614e+07       1.143614e+07   \n",
       "mean   6.086582e+05         2.210391e+01      9.669775e-01       2.936650e+01   \n",
       "std    2.847427e+05         1.978018e+01      9.877185e-01       1.471019e+01   \n",
       "min    2.000000e+00         1.000000e+00      0.000000e+00       0.000000e+00   \n",
       "25%    4.067390e+05         6.000000e+00      0.000000e+00       1.900000e+01   \n",
       "50%    6.195790e+05         1.600000e+01      1.000000e+00       2.600000e+01   \n",
       "75%    8.241590e+05         3.400000e+01      2.000000e+00       3.600000e+01   \n",
       "max    1.204356e+06         9.300000e+01      9.000000e+00       1.410000e+02   \n",
       "\n",
       "       transaction_value           clv  total_reward_points  \\\n",
       "count       1.143614e+07  1.143614e+07         1.143614e+07   \n",
       "mean        1.504392e+02  3.600556e+03         5.648918e+03   \n",
       "std         1.645431e+02  5.712062e+03         1.374896e+04   \n",
       "min         0.000000e+00  0.000000e+00         0.000000e+00   \n",
       "25%         5.816020e+01  4.291993e+02         2.759791e+02   \n",
       "50%         8.558780e+01  1.130037e+03         1.068997e+03   \n",
       "75%         1.718362e+02  4.080206e+03         4.421000e+03   \n",
       "max         1.929116e+03  6.423930e+04         4.863967e+05   \n",
       "\n",
       "       earned_reward_points  \n",
       "count          1.143614e+07  \n",
       "mean           2.941982e+02  \n",
       "std            5.555236e+02  \n",
       "min            0.000000e+00  \n",
       "25%            4.600000e+01  \n",
       "50%            1.000000e+02  \n",
       "75%            2.660000e+02  \n",
       "max            1.238400e+04  "
      ]
     },
     "execution_count": 50,
     "metadata": {},
     "output_type": "execute_result"
    }
   ],
   "source": [
    "df.describe()"
   ]
  },
  {
   "cell_type": "code",
   "execution_count": 171,
   "metadata": {},
   "outputs": [
    {
     "data": {
      "text/plain": [
       "count      1201\n",
       "unique        2\n",
       "top       False\n",
       "freq       1200\n",
       "Name: churned, dtype: object"
      ]
     },
     "execution_count": 171,
     "metadata": {},
     "output_type": "execute_result"
    }
   ],
   "source": [
    "df2[df2.customer_id.isin(submission.customer_id)].churned.describe()"
   ]
  },
  {
   "cell_type": "code",
   "execution_count": 51,
   "metadata": {},
   "outputs": [
    {
     "data": {
      "text/plain": [
       "customer_id               int64\n",
       "month                    object\n",
       "months_since_joined       int64\n",
       "referred_friends          int64\n",
       "transaction_count       float64\n",
       "transaction_value       float64\n",
       "clv                     float64\n",
       "total_reward_points     float64\n",
       "earned_reward_points    float64\n",
       "cluster                  object\n",
       "churned                    bool\n",
       "dtype: object"
      ]
     },
     "execution_count": 51,
     "metadata": {},
     "output_type": "execute_result"
    }
   ],
   "source": [
    "df.dtypes"
   ]
  },
  {
   "cell_type": "code",
   "execution_count": 109,
   "metadata": {},
   "outputs": [],
   "source": [
    "train = (df.customer_id % 10) < 8"
   ]
  },
  {
   "cell_type": "code",
   "execution_count": 110,
   "metadata": {},
   "outputs": [],
   "source": [
    "cont = ['referred_friends', 'months_since_joined']\n",
    "for cat in cont:\n",
    "    df[cat] = df[cat].astype(float)"
   ]
  },
  {
   "cell_type": "code",
   "execution_count": 111,
   "metadata": {},
   "outputs": [],
   "source": [
    "cum_features =  ['referred_friends', 'transaction_count', 'transaction_value', 'earned_reward_points']"
   ]
  },
  {
   "cell_type": "code",
   "execution_count": 112,
   "metadata": {},
   "outputs": [],
   "source": [
    "for feat in cum_features:\n",
    "    df['cum_'+feat] = df.groupby('customer_id')[feat].cumsum()"
   ]
  },
  {
   "cell_type": "code",
   "execution_count": 113,
   "metadata": {},
   "outputs": [],
   "source": [
    "cats = ['cluster']\n",
    "for cat in cats:\n",
    "    df[cat] = pd.Categorical(df[cat])"
   ]
  },
  {
   "cell_type": "code",
   "execution_count": 114,
   "metadata": {},
   "outputs": [],
   "source": [
    "features = cum_features + ['cum_' + feat for feat in cum_features] + ['cluster', 'clv']\n"
   ]
  },
  {
   "cell_type": "code",
   "execution_count": 115,
   "metadata": {},
   "outputs": [
    {
     "name": "stdout",
     "output_type": "stream",
     "text": [
      "Starting training...\n",
      "[1]\tvalid_0's binary_logloss: 0.179707\n",
      "Training until validation scores don't improve for 5 rounds\n",
      "[2]\tvalid_0's binary_logloss: 0.177029\n",
      "[3]\tvalid_0's binary_logloss: 0.174763\n",
      "[4]\tvalid_0's binary_logloss: 0.172952\n",
      "[5]\tvalid_0's binary_logloss: 0.171558\n",
      "[6]\tvalid_0's binary_logloss: 0.17041\n",
      "[7]\tvalid_0's binary_logloss: 0.169417\n",
      "[8]\tvalid_0's binary_logloss: 0.168619\n",
      "[9]\tvalid_0's binary_logloss: 0.167911\n",
      "[10]\tvalid_0's binary_logloss: 0.167277\n",
      "[11]\tvalid_0's binary_logloss: 0.166727\n",
      "[12]\tvalid_0's binary_logloss: 0.166236\n",
      "[13]\tvalid_0's binary_logloss: 0.16581\n",
      "[14]\tvalid_0's binary_logloss: 0.165437\n",
      "[15]\tvalid_0's binary_logloss: 0.165093\n",
      "[16]\tvalid_0's binary_logloss: 0.16482\n",
      "[17]\tvalid_0's binary_logloss: 0.164526\n",
      "[18]\tvalid_0's binary_logloss: 0.164292\n",
      "[19]\tvalid_0's binary_logloss: 0.164045\n",
      "[20]\tvalid_0's binary_logloss: 0.163819\n",
      "Did not meet early stopping. Best iteration is:\n",
      "[20]\tvalid_0's binary_logloss: 0.163819\n"
     ]
    }
   ],
   "source": [
    "df['label'] = df.groupby('customer_id').churned.shift(-1)\n",
    "df_clean = df.dropna(axis=0, subset=['label'])\n",
    "train = (df_clean.customer_id % 10) < 8\n",
    "\n",
    "x_train = df_clean[train]\n",
    "x_test = df_clean[~train]\n",
    "\n",
    "y_train = df_clean[train]['label'].astype(bool)\n",
    "y_test = df_clean[~train]['label'].astype(bool)\n",
    "\n",
    "# create dataset for lightgbm\n",
    "lgb_train = lgb.Dataset(x_train[features], y_train)\n",
    "lgb_eval = lgb.Dataset(x_test[features], y_test, reference=lgb_train)\n",
    "\n",
    "# specify your configurations as a dict\n",
    "params = {\n",
    "    'boosting_type': 'gbdt',\n",
    "    'objective': 'binary',\n",
    "    'application': 'binary',\n",
    "    'verbose': 0\n",
    "}\n",
    "\n",
    "print('Starting training...')\n",
    "# train\n",
    "gbm = lgb.train(params,\n",
    "                lgb_train,\n",
    "                num_boost_round=20,\n",
    "                valid_sets=lgb_eval,\n",
    "                early_stopping_rounds=5)\n"
   ]
  },
  {
   "cell_type": "code",
   "execution_count": 68,
   "metadata": {},
   "outputs": [
    {
     "name": "stderr",
     "output_type": "stream",
     "text": [
      "/home/anton/code/BCGHack/venv/lib/python3.7/site-packages/ipykernel_launcher.py:1: SettingWithCopyWarning: \n",
      "A value is trying to be set on a copy of a slice from a DataFrame.\n",
      "Try using .loc[row_indexer,col_indexer] = value instead\n",
      "\n",
      "See the caveats in the documentation: http://pandas.pydata.org/pandas-docs/stable/user_guide/indexing.html#returning-a-view-versus-a-copy\n",
      "  \"\"\"Entry point for launching an IPython kernel.\n",
      "/home/anton/code/BCGHack/venv/lib/python3.7/site-packages/ipykernel_launcher.py:2: SettingWithCopyWarning: \n",
      "A value is trying to be set on a copy of a slice from a DataFrame.\n",
      "Try using .loc[row_indexer,col_indexer] = value instead\n",
      "\n",
      "See the caveats in the documentation: http://pandas.pydata.org/pandas-docs/stable/user_guide/indexing.html#returning-a-view-versus-a-copy\n",
      "  \n"
     ]
    }
   ],
   "source": [
    "x_train['p'] = gbm.predict(x_train[features])\n",
    "x_test['p'] = gbm.predict(x_test[features])"
   ]
  },
  {
   "cell_type": "code",
   "execution_count": 69,
   "metadata": {},
   "outputs": [],
   "source": [
    "df_p = pd.concat([x_train, x_test])"
   ]
  },
  {
   "cell_type": "code",
   "execution_count": 70,
   "metadata": {},
   "outputs": [],
   "source": [
    "df_p['value'] = df_p['p'] * df_p['clv']"
   ]
  },
  {
   "cell_type": "code",
   "execution_count": 71,
   "metadata": {},
   "outputs": [
    {
     "data": {
      "text/plain": [
       "<matplotlib.axes._subplots.AxesSubplot at 0x7f42348c2ef0>"
      ]
     },
     "execution_count": 71,
     "metadata": {},
     "output_type": "execute_result"
    },
    {
     "data": {
      "image/png": "[encoded data removed]",
      "text/plain": [
       "<Figure size 432x288 with 1 Axes>"
      ]
     },
     "metadata": {
      "needs_background": "light"
     },
     "output_type": "display_data"
    }
   ],
   "source": [
    "df_p.value.hist(bins=50)"
   ]
  },
  {
   "cell_type": "code",
   "execution_count": 72,
   "metadata": {},
   "outputs": [],
   "source": [
    "best_step_1 = df_p.sort_values('value').iloc[-10000:]"
   ]
  },
  {
   "cell_type": "code",
   "execution_count": 73,
   "metadata": {},
   "outputs": [
    {
     "data": {
      "text/plain": [
       "0.012279225480220998"
      ]
     },
     "execution_count": 73,
     "metadata": {},
     "output_type": "execute_result"
    }
   ],
   "source": [
    "best_step_1.p.mean()"
   ]
  },
  {
   "cell_type": "code",
   "execution_count": 74,
   "metadata": {},
   "outputs": [
    {
     "data": {
      "text/plain": [
       "<matplotlib.axes._subplots.AxesSubplot at 0x7f423697e5c0>"
      ]
     },
     "execution_count": 74,
     "metadata": {},
     "output_type": "execute_result"
    },
    {
     "data": {
      "image/png": "[encoded data removed]",
      "text/plain": [
       "<Figure size 432x288 with 1 Axes>"
      ]
     },
     "metadata": {
      "needs_background": "light"
     },
     "output_type": "display_data"
    }
   ],
   "source": [
    "best_step_1.value.hist(bins=40)"
   ]
  },
  {
   "cell_type": "code",
   "execution_count": 75,
   "metadata": {},
   "outputs": [
    {
     "data": {
      "text/plain": [
       "B    6705\n",
       "C    2425\n",
       "A     870\n",
       "Name: cluster, dtype: int64"
      ]
     },
     "execution_count": 75,
     "metadata": {},
     "output_type": "execute_result"
    }
   ],
   "source": [
    "best_step_1.cluster.value_counts()"
   ]
  },
  {
   "cell_type": "code",
   "execution_count": 84,
   "metadata": {},
   "outputs": [],
   "source": [
    "lasts = df_p.groupby('customer_id').tail(1)\n",
    "joined = lasts.join(df2, 'customer_id', rsuffix='_2', how='inner')\n"
   ]
  },
  {
   "cell_type": "code",
   "execution_count": 77,
   "metadata": {},
   "outputs": [
    {
     "data": {
      "text/plain": [
       "(0.025006219260969107, 0.04794646412054761)"
      ]
     },
     "execution_count": 77,
     "metadata": {},
     "output_type": "execute_result"
    }
   ],
   "source": [
    "gb = joined.groupby('cluster')\n",
    "(joined.p.mean(), joined.churned_2.astype(float).mean())"
   ]
  },
  {
   "cell_type": "code",
   "execution_count": 78,
   "metadata": {},
   "outputs": [
    {
     "data": {
      "text/plain": [
       "B    33298\n",
       "C    19457\n",
       "A    12547\n",
       "Name: cluster, dtype: int64"
      ]
     },
     "execution_count": 78,
     "metadata": {},
     "output_type": "execute_result"
    }
   ],
   "source": [
    "joined.cluster.value_counts()"
   ]
  },
  {
   "cell_type": "code",
   "execution_count": 91,
   "metadata": {},
   "outputs": [
    {
     "data": {
      "text/html": [
       "<div>\n",
       "<style scoped>\n",
       "    .dataframe tbody tr th:only-of-type {\n",
       "        vertical-align: middle;\n",
       "    }\n",
       "\n",
       "    .dataframe tbody tr th {\n",
       "        vertical-align: top;\n",
       "    }\n",
       "\n",
       "    .dataframe thead th {\n",
       "        text-align: right;\n",
       "    }\n",
       "</style>\n",
       "<table border=\"1\" class=\"dataframe\">\n",
       "  <thead>\n",
       "    <tr style=\"text-align: right;\">\n",
       "      <th></th>\n",
       "      <th>customer_id</th>\n",
       "    </tr>\n",
       "  </thead>\n",
       "  <tbody>\n",
       "    <tr>\n",
       "      <th>0</th>\n",
       "      <td>32498</td>\n",
       "    </tr>\n",
       "    <tr>\n",
       "      <th>1</th>\n",
       "      <td>40708</td>\n",
       "    </tr>\n",
       "    <tr>\n",
       "      <th>2</th>\n",
       "      <td>81815</td>\n",
       "    </tr>\n",
       "    <tr>\n",
       "      <th>3</th>\n",
       "      <td>167357</td>\n",
       "    </tr>\n",
       "    <tr>\n",
       "      <th>4</th>\n",
       "      <td>75355</td>\n",
       "    </tr>\n",
       "    <tr>\n",
       "      <th>...</th>\n",
       "      <td>...</td>\n",
       "    </tr>\n",
       "    <tr>\n",
       "      <th>9995</th>\n",
       "      <td>31970</td>\n",
       "    </tr>\n",
       "    <tr>\n",
       "      <th>9996</th>\n",
       "      <td>31970</td>\n",
       "    </tr>\n",
       "    <tr>\n",
       "      <th>9997</th>\n",
       "      <td>60153</td>\n",
       "    </tr>\n",
       "    <tr>\n",
       "      <th>9998</th>\n",
       "      <td>31970</td>\n",
       "    </tr>\n",
       "    <tr>\n",
       "      <th>9999</th>\n",
       "      <td>60153</td>\n",
       "    </tr>\n",
       "  </tbody>\n",
       "</table>\n",
       "<p>10000 rows × 1 columns</p>\n",
       "</div>"
      ],
      "text/plain": [
       "      customer_id\n",
       "0           32498\n",
       "1           40708\n",
       "2           81815\n",
       "3          167357\n",
       "4           75355\n",
       "...           ...\n",
       "9995        31970\n",
       "9996        31970\n",
       "9997        60153\n",
       "9998        31970\n",
       "9999        60153\n",
       "\n",
       "[10000 rows x 1 columns]"
      ]
     },
     "execution_count": 91,
     "metadata": {},
     "output_type": "execute_result"
    }
   ],
   "source": [
    "submission"
   ]
  },
  {
   "cell_type": "code",
   "execution_count": 92,
   "metadata": {},
   "outputs": [],
   "source": [
    "submission['submitted'] = True"
   ]
  },
  {
   "cell_type": "code",
   "execution_count": 95,
   "metadata": {},
   "outputs": [],
   "source": [
    "joined2 = joined.join(submission, 'customer_id', how='left', rsuffix='_2')"
   ]
  },
  {
   "cell_type": "code",
   "execution_count": 102,
   "metadata": {},
   "outputs": [
    {
     "ename": "AttributeError",
     "evalue": "'Series' object has no attribute 'churned'",
     "output_type": "error",
     "traceback": [
      "\u001b[0;31m---------------------------------------------------------------------------\u001b[0m",
      "\u001b[0;31mAttributeError\u001b[0m                            Traceback (most recent call last)",
      "\u001b[0;32m<ipython-input-102-f9dd53b1e9d7>\u001b[0m in \u001b[0;36m<module>\u001b[0;34m\u001b[0m\n\u001b[0;32m----> 1\u001b[0;31m \u001b[0mjoined2\u001b[0m\u001b[0;34m[\u001b[0m\u001b[0;34m'churnedf'\u001b[0m\u001b[0;34m]\u001b[0m \u001b[0;34m=\u001b[0m \u001b[0mjoined2\u001b[0m\u001b[0;34m.\u001b[0m\u001b[0mchurned\u001b[0m\u001b[0;34m.\u001b[0m\u001b[0mastype\u001b[0m\u001b[0;34m(\u001b[0m\u001b[0mfloat\u001b[0m\u001b[0;34m)\u001b[0m\u001b[0;34m\u001b[0m\u001b[0;34m\u001b[0m\u001b[0m\n\u001b[0m\u001b[1;32m      2\u001b[0m \u001b[0mjoined2\u001b[0m \u001b[0;34m=\u001b[0m \u001b[0mjoined2\u001b[0m\u001b[0;34m[\u001b[0m\u001b[0;34m'submitted'\u001b[0m\u001b[0;34m]\u001b[0m\u001b[0;34m.\u001b[0m\u001b[0mfillna\u001b[0m\u001b[0;34m(\u001b[0m\u001b[0;32mFalse\u001b[0m\u001b[0;34m)\u001b[0m\u001b[0;34m\u001b[0m\u001b[0;34m\u001b[0m\u001b[0m\n\u001b[1;32m      3\u001b[0m \u001b[0mjoined2\u001b[0m\u001b[0;34m.\u001b[0m\u001b[0mgroupby\u001b[0m\u001b[0;34m(\u001b[0m\u001b[0msubmitted\u001b[0m\u001b[0;34m)\u001b[0m\u001b[0;34m.\u001b[0m\u001b[0mchurnedf\u001b[0m\u001b[0;34m.\u001b[0m\u001b[0mmean\u001b[0m\u001b[0;34m(\u001b[0m\u001b[0;34m)\u001b[0m\u001b[0;34m\u001b[0m\u001b[0;34m\u001b[0m\u001b[0m\n",
      "\u001b[0;32m~/code/BCGHack/venv/lib/python3.7/site-packages/pandas/core/generic.py\u001b[0m in \u001b[0;36m__getattr__\u001b[0;34m(self, name)\u001b[0m\n\u001b[1;32m   5177\u001b[0m             \u001b[0;32mif\u001b[0m \u001b[0mself\u001b[0m\u001b[0;34m.\u001b[0m\u001b[0m_info_axis\u001b[0m\u001b[0;34m.\u001b[0m\u001b[0m_can_hold_identifiers_and_holds_name\u001b[0m\u001b[0;34m(\u001b[0m\u001b[0mname\u001b[0m\u001b[0;34m)\u001b[0m\u001b[0;34m:\u001b[0m\u001b[0;34m\u001b[0m\u001b[0;34m\u001b[0m\u001b[0m\n\u001b[1;32m   5178\u001b[0m                 \u001b[0;32mreturn\u001b[0m \u001b[0mself\u001b[0m\u001b[0;34m[\u001b[0m\u001b[0mname\u001b[0m\u001b[0;34m]\u001b[0m\u001b[0;34m\u001b[0m\u001b[0;34m\u001b[0m\u001b[0m\n\u001b[0;32m-> 5179\u001b[0;31m             \u001b[0;32mreturn\u001b[0m \u001b[0mobject\u001b[0m\u001b[0;34m.\u001b[0m\u001b[0m__getattribute__\u001b[0m\u001b[0;34m(\u001b[0m\u001b[0mself\u001b[0m\u001b[0;34m,\u001b[0m \u001b[0mname\u001b[0m\u001b[0;34m)\u001b[0m\u001b[0;34m\u001b[0m\u001b[0;34m\u001b[0m\u001b[0m\n\u001b[0m\u001b[1;32m   5180\u001b[0m \u001b[0;34m\u001b[0m\u001b[0m\n\u001b[1;32m   5181\u001b[0m     \u001b[0;32mdef\u001b[0m \u001b[0m__setattr__\u001b[0m\u001b[0;34m(\u001b[0m\u001b[0mself\u001b[0m\u001b[0;34m,\u001b[0m \u001b[0mname\u001b[0m\u001b[0;34m,\u001b[0m \u001b[0mvalue\u001b[0m\u001b[0;34m)\u001b[0m\u001b[0;34m:\u001b[0m\u001b[0;34m\u001b[0m\u001b[0;34m\u001b[0m\u001b[0m\n",
      "\u001b[0;31mAttributeError\u001b[0m: 'Series' object has no attribute 'churned'"
     ]
    }
   ],
   "source": [
    "joined2['churnedf'] = joined2.churned.astype(float)\n",
    "joined2 = joined2['submitted'].fillna(False)\n",
    "joined2.groupby(submitted).churnedf.mean()"
   ]
  },
  {
   "cell_type": "code",
   "execution_count": 99,
   "metadata": {},
   "outputs": [
    {
     "data": {
      "text/html": [
       "<div>\n",
       "<style scoped>\n",
       "    .dataframe tbody tr th:only-of-type {\n",
       "        vertical-align: middle;\n",
       "    }\n",
       "\n",
       "    .dataframe tbody tr th {\n",
       "        vertical-align: top;\n",
       "    }\n",
       "\n",
       "    .dataframe thead th {\n",
       "        text-align: right;\n",
       "    }\n",
       "</style>\n",
       "<table border=\"1\" class=\"dataframe\">\n",
       "  <thead>\n",
       "    <tr style=\"text-align: right;\">\n",
       "      <th></th>\n",
       "      <th>customer_id</th>\n",
       "      <th>month</th>\n",
       "      <th>months_since_joined</th>\n",
       "      <th>referred_friends</th>\n",
       "      <th>transaction_count</th>\n",
       "      <th>transaction_value</th>\n",
       "      <th>clv</th>\n",
       "      <th>total_reward_points</th>\n",
       "      <th>earned_reward_points</th>\n",
       "      <th>cluster</th>\n",
       "      <th>...</th>\n",
       "      <th>transaction_count_2</th>\n",
       "      <th>transaction_value_2</th>\n",
       "      <th>clv_2</th>\n",
       "      <th>total_reward_points_2</th>\n",
       "      <th>earned_reward_points_2</th>\n",
       "      <th>cluster_2</th>\n",
       "      <th>churned_2</th>\n",
       "      <th>customer_id_2</th>\n",
       "      <th>submitted</th>\n",
       "      <th>churnedf</th>\n",
       "    </tr>\n",
       "  </thead>\n",
       "  <tbody>\n",
       "    <tr>\n",
       "      <th>34173</th>\n",
       "      <td>186083</td>\n",
       "      <td>2016-02-01</td>\n",
       "      <td>33.0</td>\n",
       "      <td>3.0</td>\n",
       "      <td>6.0</td>\n",
       "      <td>38.793841</td>\n",
       "      <td>1037.916931</td>\n",
       "      <td>358.078171</td>\n",
       "      <td>6.0</td>\n",
       "      <td>A</td>\n",
       "      <td>...</td>\n",
       "      <td>40.0</td>\n",
       "      <td>99.382632</td>\n",
       "      <td>1176.037331</td>\n",
       "      <td>1946.130133</td>\n",
       "      <td>160.0</td>\n",
       "      <td>B</td>\n",
       "      <td>False</td>\n",
       "      <td>NaN</td>\n",
       "      <td>NaN</td>\n",
       "      <td>0.0</td>\n",
       "    </tr>\n",
       "    <tr>\n",
       "      <th>34049</th>\n",
       "      <td>185500</td>\n",
       "      <td>2016-02-01</td>\n",
       "      <td>33.0</td>\n",
       "      <td>0.0</td>\n",
       "      <td>35.0</td>\n",
       "      <td>35.000000</td>\n",
       "      <td>936.413923</td>\n",
       "      <td>1389.120566</td>\n",
       "      <td>35.0</td>\n",
       "      <td>A</td>\n",
       "      <td>...</td>\n",
       "      <td>30.0</td>\n",
       "      <td>75.215881</td>\n",
       "      <td>890.061796</td>\n",
       "      <td>704.996608</td>\n",
       "      <td>90.0</td>\n",
       "      <td>C</td>\n",
       "      <td>False</td>\n",
       "      <td>NaN</td>\n",
       "      <td>NaN</td>\n",
       "      <td>0.0</td>\n",
       "    </tr>\n",
       "    <tr>\n",
       "      <th>34376</th>\n",
       "      <td>187117</td>\n",
       "      <td>2016-02-01</td>\n",
       "      <td>33.0</td>\n",
       "      <td>0.0</td>\n",
       "      <td>1.0</td>\n",
       "      <td>1.000000</td>\n",
       "      <td>26.754684</td>\n",
       "      <td>402.904909</td>\n",
       "      <td>0.0</td>\n",
       "      <td>A</td>\n",
       "      <td>...</td>\n",
       "      <td>36.0</td>\n",
       "      <td>134.034871</td>\n",
       "      <td>1586.092132</td>\n",
       "      <td>1541.918997</td>\n",
       "      <td>216.0</td>\n",
       "      <td>C</td>\n",
       "      <td>False</td>\n",
       "      <td>NaN</td>\n",
       "      <td>NaN</td>\n",
       "      <td>0.0</td>\n",
       "    </tr>\n",
       "    <tr>\n",
       "      <th>34384</th>\n",
       "      <td>187157</td>\n",
       "      <td>2016-02-01</td>\n",
       "      <td>33.0</td>\n",
       "      <td>1.0</td>\n",
       "      <td>7.0</td>\n",
       "      <td>52.846386</td>\n",
       "      <td>1413.888324</td>\n",
       "      <td>1742.933895</td>\n",
       "      <td>14.0</td>\n",
       "      <td>C</td>\n",
       "      <td>...</td>\n",
       "      <td>24.0</td>\n",
       "      <td>95.411141</td>\n",
       "      <td>1129.040968</td>\n",
       "      <td>1105.490050</td>\n",
       "      <td>96.0</td>\n",
       "      <td>B</td>\n",
       "      <td>False</td>\n",
       "      <td>NaN</td>\n",
       "      <td>NaN</td>\n",
       "      <td>0.0</td>\n",
       "    </tr>\n",
       "    <tr>\n",
       "      <th>34225</th>\n",
       "      <td>186311</td>\n",
       "      <td>2016-02-01</td>\n",
       "      <td>33.0</td>\n",
       "      <td>0.0</td>\n",
       "      <td>5.0</td>\n",
       "      <td>42.706706</td>\n",
       "      <td>1142.604399</td>\n",
       "      <td>2012.508869</td>\n",
       "      <td>10.0</td>\n",
       "      <td>B</td>\n",
       "      <td>...</td>\n",
       "      <td>10.0</td>\n",
       "      <td>34.735734</td>\n",
       "      <td>411.042842</td>\n",
       "      <td>408.276624</td>\n",
       "      <td>10.0</td>\n",
       "      <td>B</td>\n",
       "      <td>False</td>\n",
       "      <td>NaN</td>\n",
       "      <td>NaN</td>\n",
       "      <td>0.0</td>\n",
       "    </tr>\n",
       "    <tr>\n",
       "      <th>...</th>\n",
       "      <td>...</td>\n",
       "      <td>...</td>\n",
       "      <td>...</td>\n",
       "      <td>...</td>\n",
       "      <td>...</td>\n",
       "      <td>...</td>\n",
       "      <td>...</td>\n",
       "      <td>...</td>\n",
       "      <td>...</td>\n",
       "      <td>...</td>\n",
       "      <td>...</td>\n",
       "      <td>...</td>\n",
       "      <td>...</td>\n",
       "      <td>...</td>\n",
       "      <td>...</td>\n",
       "      <td>...</td>\n",
       "      <td>...</td>\n",
       "      <td>...</td>\n",
       "      <td>...</td>\n",
       "      <td>...</td>\n",
       "      <td>...</td>\n",
       "    </tr>\n",
       "    <tr>\n",
       "      <th>10834533</th>\n",
       "      <td>252778</td>\n",
       "      <td>2019-08-01</td>\n",
       "      <td>69.0</td>\n",
       "      <td>1.0</td>\n",
       "      <td>71.0</td>\n",
       "      <td>1080.005832</td>\n",
       "      <td>35759.938758</td>\n",
       "      <td>94472.973805</td>\n",
       "      <td>3834.0</td>\n",
       "      <td>B</td>\n",
       "      <td>...</td>\n",
       "      <td>21.0</td>\n",
       "      <td>45.198751</td>\n",
       "      <td>298.723856</td>\n",
       "      <td>150.716356</td>\n",
       "      <td>42.0</td>\n",
       "      <td>A</td>\n",
       "      <td>False</td>\n",
       "      <td>NaN</td>\n",
       "      <td>NaN</td>\n",
       "      <td>0.0</td>\n",
       "    </tr>\n",
       "    <tr>\n",
       "      <th>10834530</th>\n",
       "      <td>252768</td>\n",
       "      <td>2019-08-01</td>\n",
       "      <td>69.0</td>\n",
       "      <td>0.0</td>\n",
       "      <td>44.0</td>\n",
       "      <td>632.222067</td>\n",
       "      <td>20933.426236</td>\n",
       "      <td>36450.999261</td>\n",
       "      <td>1364.0</td>\n",
       "      <td>B</td>\n",
       "      <td>...</td>\n",
       "      <td>15.0</td>\n",
       "      <td>46.103534</td>\n",
       "      <td>304.703670</td>\n",
       "      <td>157.578580</td>\n",
       "      <td>30.0</td>\n",
       "      <td>C</td>\n",
       "      <td>True</td>\n",
       "      <td>NaN</td>\n",
       "      <td>NaN</td>\n",
       "      <td>0.0</td>\n",
       "    </tr>\n",
       "    <tr>\n",
       "      <th>10834575</th>\n",
       "      <td>253079</td>\n",
       "      <td>2019-08-01</td>\n",
       "      <td>69.0</td>\n",
       "      <td>0.0</td>\n",
       "      <td>36.0</td>\n",
       "      <td>73.188401</td>\n",
       "      <td>2423.332037</td>\n",
       "      <td>9866.832224</td>\n",
       "      <td>108.0</td>\n",
       "      <td>B</td>\n",
       "      <td>...</td>\n",
       "      <td>24.0</td>\n",
       "      <td>66.630330</td>\n",
       "      <td>440.367681</td>\n",
       "      <td>290.999873</td>\n",
       "      <td>72.0</td>\n",
       "      <td>B</td>\n",
       "      <td>False</td>\n",
       "      <td>NaN</td>\n",
       "      <td>NaN</td>\n",
       "      <td>0.0</td>\n",
       "    </tr>\n",
       "    <tr>\n",
       "      <th>10834524</th>\n",
       "      <td>252718</td>\n",
       "      <td>2019-08-01</td>\n",
       "      <td>69.0</td>\n",
       "      <td>1.0</td>\n",
       "      <td>42.0</td>\n",
       "      <td>387.636399</td>\n",
       "      <td>12834.980579</td>\n",
       "      <td>22012.869379</td>\n",
       "      <td>798.0</td>\n",
       "      <td>B</td>\n",
       "      <td>...</td>\n",
       "      <td>23.0</td>\n",
       "      <td>75.653199</td>\n",
       "      <td>500.000879</td>\n",
       "      <td>460.999590</td>\n",
       "      <td>69.0</td>\n",
       "      <td>B</td>\n",
       "      <td>False</td>\n",
       "      <td>NaN</td>\n",
       "      <td>NaN</td>\n",
       "      <td>0.0</td>\n",
       "    </tr>\n",
       "    <tr>\n",
       "      <th>10834522</th>\n",
       "      <td>252669</td>\n",
       "      <td>2019-08-01</td>\n",
       "      <td>69.0</td>\n",
       "      <td>0.0</td>\n",
       "      <td>44.0</td>\n",
       "      <td>478.280546</td>\n",
       "      <td>15836.287652</td>\n",
       "      <td>29297.999033</td>\n",
       "      <td>1012.0</td>\n",
       "      <td>A</td>\n",
       "      <td>...</td>\n",
       "      <td>21.0</td>\n",
       "      <td>57.882547</td>\n",
       "      <td>382.552550</td>\n",
       "      <td>229.563134</td>\n",
       "      <td>42.0</td>\n",
       "      <td>C</td>\n",
       "      <td>True</td>\n",
       "      <td>NaN</td>\n",
       "      <td>NaN</td>\n",
       "      <td>0.0</td>\n",
       "    </tr>\n",
       "  </tbody>\n",
       "</table>\n",
       "<p>65302 rows × 32 columns</p>\n",
       "</div>"
      ],
      "text/plain": [
       "          customer_id       month  months_since_joined  referred_friends  \\\n",
       "34173          186083  2016-02-01                 33.0               3.0   \n",
       "34049          185500  2016-02-01                 33.0               0.0   \n",
       "34376          187117  2016-02-01                 33.0               0.0   \n",
       "34384          187157  2016-02-01                 33.0               1.0   \n",
       "34225          186311  2016-02-01                 33.0               0.0   \n",
       "...               ...         ...                  ...               ...   \n",
       "10834533       252778  2019-08-01                 69.0               1.0   \n",
       "10834530       252768  2019-08-01                 69.0               0.0   \n",
       "10834575       253079  2019-08-01                 69.0               0.0   \n",
       "10834524       252718  2019-08-01                 69.0               1.0   \n",
       "10834522       252669  2019-08-01                 69.0               0.0   \n",
       "\n",
       "          transaction_count  transaction_value           clv  \\\n",
       "34173                   6.0          38.793841   1037.916931   \n",
       "34049                  35.0          35.000000    936.413923   \n",
       "34376                   1.0           1.000000     26.754684   \n",
       "34384                   7.0          52.846386   1413.888324   \n",
       "34225                   5.0          42.706706   1142.604399   \n",
       "...                     ...                ...           ...   \n",
       "10834533               71.0        1080.005832  35759.938758   \n",
       "10834530               44.0         632.222067  20933.426236   \n",
       "10834575               36.0          73.188401   2423.332037   \n",
       "10834524               42.0         387.636399  12834.980579   \n",
       "10834522               44.0         478.280546  15836.287652   \n",
       "\n",
       "          total_reward_points  earned_reward_points cluster  ...  \\\n",
       "34173              358.078171                   6.0       A  ...   \n",
       "34049             1389.120566                  35.0       A  ...   \n",
       "34376              402.904909                   0.0       A  ...   \n",
       "34384             1742.933895                  14.0       C  ...   \n",
       "34225             2012.508869                  10.0       B  ...   \n",
       "...                       ...                   ...     ...  ...   \n",
       "10834533         94472.973805                3834.0       B  ...   \n",
       "10834530         36450.999261                1364.0       B  ...   \n",
       "10834575          9866.832224                 108.0       B  ...   \n",
       "10834524         22012.869379                 798.0       B  ...   \n",
       "10834522         29297.999033                1012.0       A  ...   \n",
       "\n",
       "          transaction_count_2  transaction_value_2        clv_2  \\\n",
       "34173                    40.0            99.382632  1176.037331   \n",
       "34049                    30.0            75.215881   890.061796   \n",
       "34376                    36.0           134.034871  1586.092132   \n",
       "34384                    24.0            95.411141  1129.040968   \n",
       "34225                    10.0            34.735734   411.042842   \n",
       "...                       ...                  ...          ...   \n",
       "10834533                 21.0            45.198751   298.723856   \n",
       "10834530                 15.0            46.103534   304.703670   \n",
       "10834575                 24.0            66.630330   440.367681   \n",
       "10834524                 23.0            75.653199   500.000879   \n",
       "10834522                 21.0            57.882547   382.552550   \n",
       "\n",
       "          total_reward_points_2  earned_reward_points_2 cluster_2  churned_2  \\\n",
       "34173               1946.130133                   160.0         B      False   \n",
       "34049                704.996608                    90.0         C      False   \n",
       "34376               1541.918997                   216.0         C      False   \n",
       "34384               1105.490050                    96.0         B      False   \n",
       "34225                408.276624                    10.0         B      False   \n",
       "...                         ...                     ...       ...        ...   \n",
       "10834533             150.716356                    42.0         A      False   \n",
       "10834530             157.578580                    30.0         C       True   \n",
       "10834575             290.999873                    72.0         B      False   \n",
       "10834524             460.999590                    69.0         B      False   \n",
       "10834522             229.563134                    42.0         C       True   \n",
       "\n",
       "          customer_id_2  submitted churnedf  \n",
       "34173               NaN        NaN      0.0  \n",
       "34049               NaN        NaN      0.0  \n",
       "34376               NaN        NaN      0.0  \n",
       "34384               NaN        NaN      0.0  \n",
       "34225               NaN        NaN      0.0  \n",
       "...                 ...        ...      ...  \n",
       "10834533            NaN        NaN      0.0  \n",
       "10834530            NaN        NaN      0.0  \n",
       "10834575            NaN        NaN      0.0  \n",
       "10834524            NaN        NaN      0.0  \n",
       "10834522            NaN        NaN      0.0  \n",
       "\n",
       "[65302 rows x 32 columns]"
      ]
     },
     "execution_count": 99,
     "metadata": {},
     "output_type": "execute_result"
    }
   ],
   "source": [
    "joined2"
   ]
  },
  {
   "cell_type": "code",
   "execution_count": 96,
   "metadata": {},
   "outputs": [
    {
     "data": {
      "text/plain": [
       "65302"
      ]
     },
     "execution_count": 96,
     "metadata": {},
     "output_type": "execute_result"
    }
   ],
   "source": [
    "len(joined2)"
   ]
  },
  {
   "cell_type": "code",
   "execution_count": 86,
   "metadata": {},
   "outputs": [
    {
     "data": {
      "text/plain": [
       "312299"
      ]
     },
     "execution_count": 86,
     "metadata": {},
     "output_type": "execute_result"
    }
   ],
   "source": [
    "len(df2)"
   ]
  },
  {
   "cell_type": "code",
   "execution_count": 87,
   "metadata": {},
   "outputs": [
    {
     "data": {
      "text/plain": [
       "65302"
      ]
     },
     "execution_count": 87,
     "metadata": {},
     "output_type": "execute_result"
    }
   ],
   "source": [
    "len(joined)"
   ]
  },
  {
   "cell_type": "code",
   "execution_count": 90,
   "metadata": {},
   "outputs": [
    {
     "data": {
      "text/plain": [
       "761635"
      ]
     },
     "execution_count": 90,
     "metadata": {},
     "output_type": "execute_result"
    }
   ],
   "source": [
    "len(lasts)"
   ]
  },
  {
   "cell_type": "code",
   "execution_count": 22,
   "metadata": {},
   "outputs": [
    {
     "data": {
      "text/html": [
       "<div>\n",
       "<style scoped>\n",
       "    .dataframe tbody tr th:only-of-type {\n",
       "        vertical-align: middle;\n",
       "    }\n",
       "\n",
       "    .dataframe tbody tr th {\n",
       "        vertical-align: top;\n",
       "    }\n",
       "\n",
       "    .dataframe thead th {\n",
       "        text-align: right;\n",
       "    }\n",
       "</style>\n",
       "<table border=\"1\" class=\"dataframe\">\n",
       "  <thead>\n",
       "    <tr style=\"text-align: right;\">\n",
       "      <th></th>\n",
       "      <th>referred_friends</th>\n",
       "      <th>transaction_count</th>\n",
       "      <th>transaction_value</th>\n",
       "      <th>earned_reward_points</th>\n",
       "      <th>cum_referred_friends</th>\n",
       "      <th>cum_transaction_count</th>\n",
       "      <th>cum_transaction_value</th>\n",
       "      <th>cum_earned_reward_points</th>\n",
       "      <th>cluster</th>\n",
       "      <th>clv</th>\n",
       "    </tr>\n",
       "  </thead>\n",
       "  <tbody>\n",
       "    <tr>\n",
       "      <th>343319</th>\n",
       "      <td>1</td>\n",
       "      <td>16.0</td>\n",
       "      <td>49.038831</td>\n",
       "      <td>32.0</td>\n",
       "      <td>1</td>\n",
       "      <td>31.0</td>\n",
       "      <td>94.093606</td>\n",
       "      <td>62.0</td>\n",
       "      <td>A</td>\n",
       "      <td>379.213933</td>\n",
       "    </tr>\n",
       "    <tr>\n",
       "      <th>343318</th>\n",
       "      <td>0</td>\n",
       "      <td>18.0</td>\n",
       "      <td>70.531096</td>\n",
       "      <td>54.0</td>\n",
       "      <td>1</td>\n",
       "      <td>34.0</td>\n",
       "      <td>129.344747</td>\n",
       "      <td>86.0</td>\n",
       "      <td>A</td>\n",
       "      <td>545.412153</td>\n",
       "    </tr>\n",
       "    <tr>\n",
       "      <th>343317</th>\n",
       "      <td>0</td>\n",
       "      <td>15.0</td>\n",
       "      <td>47.805180</td>\n",
       "      <td>30.0</td>\n",
       "      <td>3</td>\n",
       "      <td>31.0</td>\n",
       "      <td>95.487264</td>\n",
       "      <td>62.0</td>\n",
       "      <td>C</td>\n",
       "      <td>369.674190</td>\n",
       "    </tr>\n",
       "    <tr>\n",
       "      <th>343315</th>\n",
       "      <td>1</td>\n",
       "      <td>25.0</td>\n",
       "      <td>71.703089</td>\n",
       "      <td>75.0</td>\n",
       "      <td>2</td>\n",
       "      <td>49.0</td>\n",
       "      <td>144.292021</td>\n",
       "      <td>147.0</td>\n",
       "      <td>B</td>\n",
       "      <td>554.475087</td>\n",
       "    </tr>\n",
       "    <tr>\n",
       "      <th>343314</th>\n",
       "      <td>1</td>\n",
       "      <td>20.0</td>\n",
       "      <td>69.553305</td>\n",
       "      <td>60.0</td>\n",
       "      <td>1</td>\n",
       "      <td>40.0</td>\n",
       "      <td>137.524225</td>\n",
       "      <td>120.0</td>\n",
       "      <td>C</td>\n",
       "      <td>537.850958</td>\n",
       "    </tr>\n",
       "  </tbody>\n",
       "</table>\n",
       "</div>"
      ],
      "text/plain": [
       "        referred_friends  transaction_count  transaction_value  \\\n",
       "343319                 1               16.0          49.038831   \n",
       "343318                 0               18.0          70.531096   \n",
       "343317                 0               15.0          47.805180   \n",
       "343315                 1               25.0          71.703089   \n",
       "343314                 1               20.0          69.553305   \n",
       "\n",
       "        earned_reward_points  cum_referred_friends  cum_transaction_count  \\\n",
       "343319                  32.0                     1                   31.0   \n",
       "343318                  54.0                     1                   34.0   \n",
       "343317                  30.0                     3                   31.0   \n",
       "343315                  75.0                     2                   49.0   \n",
       "343314                  60.0                     1                   40.0   \n",
       "\n",
       "        cum_transaction_value  cum_earned_reward_points cluster         clv  \n",
       "343319              94.093606                      62.0       A  379.213933  \n",
       "343318             129.344747                      86.0       A  545.412153  \n",
       "343317              95.487264                      62.0       C  369.674190  \n",
       "343315             144.292021                     147.0       B  554.475087  \n",
       "343314             137.524225                     120.0       C  537.850958  "
      ]
     },
     "execution_count": 22,
     "metadata": {},
     "output_type": "execute_result"
    }
   ],
   "source": [
    "x_train.head()"
   ]
  },
  {
   "cell_type": "code",
   "execution_count": 24,
   "metadata": {},
   "outputs": [],
   "source": [
    "from sklearn.linear_model import LinearRegression, LogisticRegression"
   ]
  },
  {
   "cell_type": "code",
   "execution_count": 40,
   "metadata": {},
   "outputs": [
    {
     "name": "stderr",
     "output_type": "stream",
     "text": [
      "/home/anton/code/BCGHack/venv/lib/python3.7/site-packages/sklearn/linear_model/logistic.py:432: FutureWarning: Default solver will be changed to 'lbfgs' in 0.22. Specify a solver to silence this warning.\n",
      "  FutureWarning)\n"
     ]
    },
    {
     "ename": "ValueError",
     "evalue": "This solver needs samples of at least 2 classes in the data, but the data contains only one class: False",
     "output_type": "error",
     "traceback": [
      "\u001b[0;31m---------------------------------------------------------------------------\u001b[0m",
      "\u001b[0;31mValueError\u001b[0m                                Traceback (most recent call last)",
      "\u001b[0;32m<ipython-input-40-23c2de0dfffe>\u001b[0m in \u001b[0;36m<module>\u001b[0;34m\u001b[0m\n\u001b[1;32m      1\u001b[0m \u001b[0mlr\u001b[0m \u001b[0;34m=\u001b[0m \u001b[0mLogisticRegression\u001b[0m\u001b[0;34m(\u001b[0m\u001b[0;34m)\u001b[0m\u001b[0;34m\u001b[0m\u001b[0;34m\u001b[0m\u001b[0m\n\u001b[0;32m----> 2\u001b[0;31m \u001b[0mlr\u001b[0m\u001b[0;34m.\u001b[0m\u001b[0mfit\u001b[0m\u001b[0;34m(\u001b[0m\u001b[0mx_train\u001b[0m\u001b[0;34m,\u001b[0m \u001b[0my_train\u001b[0m\u001b[0;34m)\u001b[0m\u001b[0;34m\u001b[0m\u001b[0;34m\u001b[0m\u001b[0m\n\u001b[0m",
      "\u001b[0;32m~/code/BCGHack/venv/lib/python3.7/site-packages/sklearn/linear_model/logistic.py\u001b[0m in \u001b[0;36mfit\u001b[0;34m(self, X, y, sample_weight)\u001b[0m\n\u001b[1;32m   1547\u001b[0m                 \u001b[0mself\u001b[0m\u001b[0;34m.\u001b[0m\u001b[0mclass_weight\u001b[0m\u001b[0;34m,\u001b[0m \u001b[0mself\u001b[0m\u001b[0;34m.\u001b[0m\u001b[0mpenalty\u001b[0m\u001b[0;34m,\u001b[0m \u001b[0mself\u001b[0m\u001b[0;34m.\u001b[0m\u001b[0mdual\u001b[0m\u001b[0;34m,\u001b[0m \u001b[0mself\u001b[0m\u001b[0;34m.\u001b[0m\u001b[0mverbose\u001b[0m\u001b[0;34m,\u001b[0m\u001b[0;34m\u001b[0m\u001b[0;34m\u001b[0m\u001b[0m\n\u001b[1;32m   1548\u001b[0m                 \u001b[0mself\u001b[0m\u001b[0;34m.\u001b[0m\u001b[0mmax_iter\u001b[0m\u001b[0;34m,\u001b[0m \u001b[0mself\u001b[0m\u001b[0;34m.\u001b[0m\u001b[0mtol\u001b[0m\u001b[0;34m,\u001b[0m \u001b[0mself\u001b[0m\u001b[0;34m.\u001b[0m\u001b[0mrandom_state\u001b[0m\u001b[0;34m,\u001b[0m\u001b[0;34m\u001b[0m\u001b[0;34m\u001b[0m\u001b[0m\n\u001b[0;32m-> 1549\u001b[0;31m                 sample_weight=sample_weight)\n\u001b[0m\u001b[1;32m   1550\u001b[0m             \u001b[0mself\u001b[0m\u001b[0;34m.\u001b[0m\u001b[0mn_iter_\u001b[0m \u001b[0;34m=\u001b[0m \u001b[0mnp\u001b[0m\u001b[0;34m.\u001b[0m\u001b[0marray\u001b[0m\u001b[0;34m(\u001b[0m\u001b[0;34m[\u001b[0m\u001b[0mn_iter_\u001b[0m\u001b[0;34m]\u001b[0m\u001b[0;34m)\u001b[0m\u001b[0;34m\u001b[0m\u001b[0;34m\u001b[0m\u001b[0m\n\u001b[1;32m   1551\u001b[0m             \u001b[0;32mreturn\u001b[0m \u001b[0mself\u001b[0m\u001b[0;34m\u001b[0m\u001b[0;34m\u001b[0m\u001b[0m\n",
      "\u001b[0;32m~/code/BCGHack/venv/lib/python3.7/site-packages/sklearn/svm/base.py\u001b[0m in \u001b[0;36m_fit_liblinear\u001b[0;34m(X, y, C, fit_intercept, intercept_scaling, class_weight, penalty, dual, verbose, max_iter, tol, random_state, multi_class, loss, epsilon, sample_weight)\u001b[0m\n\u001b[1;32m    877\u001b[0m             raise ValueError(\"This solver needs samples of at least 2 classes\"\n\u001b[1;32m    878\u001b[0m                              \u001b[0;34m\" in the data, but the data contains only one\"\u001b[0m\u001b[0;34m\u001b[0m\u001b[0;34m\u001b[0m\u001b[0m\n\u001b[0;32m--> 879\u001b[0;31m                              \" class: %r\" % classes_[0])\n\u001b[0m\u001b[1;32m    880\u001b[0m \u001b[0;34m\u001b[0m\u001b[0m\n\u001b[1;32m    881\u001b[0m         \u001b[0mclass_weight_\u001b[0m \u001b[0;34m=\u001b[0m \u001b[0mcompute_class_weight\u001b[0m\u001b[0;34m(\u001b[0m\u001b[0mclass_weight\u001b[0m\u001b[0;34m,\u001b[0m \u001b[0mclasses_\u001b[0m\u001b[0;34m,\u001b[0m \u001b[0my\u001b[0m\u001b[0;34m)\u001b[0m\u001b[0;34m\u001b[0m\u001b[0;34m\u001b[0m\u001b[0m\n",
      "\u001b[0;31mValueError\u001b[0m: This solver needs samples of at least 2 classes in the data, but the data contains only one class: False"
     ]
    }
   ],
   "source": [
    "lr = LogisticRegression()\n",
    "lr.fit(x_train, y_train)"
   ]
  },
  {
   "cell_type": "code",
   "execution_count": 35,
   "metadata": {},
   "outputs": [
    {
     "data": {
      "text/plain": [
       "referred_friends              int64\n",
       "transaction_count           float64\n",
       "transaction_value           float64\n",
       "earned_reward_points        float64\n",
       "cum_referred_friends          int64\n",
       "cum_transaction_count       float64\n",
       "cum_transaction_value       float64\n",
       "cum_earned_reward_points    float64\n",
       "cluster                        int8\n",
       "clv                         float64\n",
       "dtype: object"
      ]
     },
     "execution_count": 35,
     "metadata": {},
     "output_type": "execute_result"
    }
   ],
   "source": [
    "x_train.dtypes"
   ]
  },
  {
   "cell_type": "code",
   "execution_count": 64,
   "metadata": {},
   "outputs": [
    {
     "data": {
      "text/plain": [
       "False    10123714\n",
       "True       475591\n",
       "Name: churned, dtype: int64"
      ]
     },
     "execution_count": 64,
     "metadata": {},
     "output_type": "execute_result"
    }
   ],
   "source": [
    "df.groupby('customer_id').churned.shift(-1).value_counts()"
   ]
  },
  {
   "cell_type": "code",
   "execution_count": 65,
   "metadata": {},
   "outputs": [
    {
     "data": {
      "text/plain": [
       "False    10900272\n",
       "True       535866\n",
       "Name: churned, dtype: int64"
      ]
     },
     "execution_count": 65,
     "metadata": {},
     "output_type": "execute_result"
    }
   ],
   "source": [
    "df.churned.value_counts()"
   ]
  },
  {
   "cell_type": "code",
   "execution_count": null,
   "metadata": {},
   "outputs": [],
   "source": [
    "## step2  ###"
   ]
  },
  {
   "cell_type": "code",
   "execution_count": 103,
   "metadata": {},
   "outputs": [
    {
     "name": "stderr",
     "output_type": "stream",
     "text": [
      "/home/anton/code/BCGHack/venv/lib/python3.7/site-packages/ipykernel_launcher.py:1: FutureWarning: Sorting because non-concatenation axis is not aligned. A future version\n",
      "of pandas will change to not sort by default.\n",
      "\n",
      "To accept the future behavior, pass 'sort=False'.\n",
      "\n",
      "To retain the current behavior and silence the warning, pass 'sort=True'.\n",
      "\n",
      "  \"\"\"Entry point for launching an IPython kernel.\n"
     ]
    }
   ],
   "source": [
    "dfall = pd.concat([df, df2])"
   ]
  },
  {
   "cell_type": "code",
   "execution_count": 104,
   "metadata": {},
   "outputs": [],
   "source": [
    "dfall = dfall.sort_values('month')"
   ]
  },
  {
   "cell_type": "code",
   "execution_count": 105,
   "metadata": {
    "scrolled": true
   },
   "outputs": [
    {
     "data": {
      "text/html": [
       "<div>\n",
       "<style scoped>\n",
       "    .dataframe tbody tr th:only-of-type {\n",
       "        vertical-align: middle;\n",
       "    }\n",
       "\n",
       "    .dataframe tbody tr th {\n",
       "        vertical-align: top;\n",
       "    }\n",
       "\n",
       "    .dataframe thead th {\n",
       "        text-align: right;\n",
       "    }\n",
       "</style>\n",
       "<table border=\"1\" class=\"dataframe\">\n",
       "  <thead>\n",
       "    <tr style=\"text-align: right;\">\n",
       "      <th></th>\n",
       "      <th>clv</th>\n",
       "      <th>cum_earned_reward_points</th>\n",
       "      <th>cum_referred_friends</th>\n",
       "      <th>cum_transaction_count</th>\n",
       "      <th>cum_transaction_value</th>\n",
       "      <th>customer_id</th>\n",
       "      <th>earned_reward_points</th>\n",
       "      <th>months_since_joined</th>\n",
       "      <th>referred_friends</th>\n",
       "      <th>total_reward_points</th>\n",
       "      <th>transaction_count</th>\n",
       "      <th>transaction_value</th>\n",
       "    </tr>\n",
       "  </thead>\n",
       "  <tbody>\n",
       "    <tr>\n",
       "      <th>count</th>\n",
       "      <td>1.174844e+07</td>\n",
       "      <td>1.143614e+07</td>\n",
       "      <td>1.143614e+07</td>\n",
       "      <td>1.143614e+07</td>\n",
       "      <td>1.143614e+07</td>\n",
       "      <td>1.174844e+07</td>\n",
       "      <td>1.174844e+07</td>\n",
       "      <td>1.174844e+07</td>\n",
       "      <td>1.174844e+07</td>\n",
       "      <td>1.174844e+07</td>\n",
       "      <td>1.174844e+07</td>\n",
       "      <td>1.174844e+07</td>\n",
       "    </tr>\n",
       "    <tr>\n",
       "      <th>mean</th>\n",
       "      <td>3.634193e+03</td>\n",
       "      <td>4.356872e+03</td>\n",
       "      <td>1.386087e+01</td>\n",
       "      <td>4.261847e+02</td>\n",
       "      <td>2.248129e+03</td>\n",
       "      <td>6.146858e+05</td>\n",
       "      <td>2.975513e+02</td>\n",
       "      <td>2.223146e+01</td>\n",
       "      <td>9.670399e-01</td>\n",
       "      <td>5.752907e+03</td>\n",
       "      <td>2.942922e+01</td>\n",
       "      <td>1.513609e+02</td>\n",
       "    </tr>\n",
       "    <tr>\n",
       "      <th>std</th>\n",
       "      <td>5.775117e+03</td>\n",
       "      <td>1.121846e+04</td>\n",
       "      <td>1.201230e+01</td>\n",
       "      <td>4.880609e+02</td>\n",
       "      <td>3.903332e+03</td>\n",
       "      <td>2.883516e+05</td>\n",
       "      <td>5.645690e+02</td>\n",
       "      <td>1.993022e+01</td>\n",
       "      <td>9.877004e-01</td>\n",
       "      <td>1.408958e+04</td>\n",
       "      <td>1.479195e+01</td>\n",
       "      <td>1.663061e+02</td>\n",
       "    </tr>\n",
       "    <tr>\n",
       "      <th>min</th>\n",
       "      <td>0.000000e+00</td>\n",
       "      <td>0.000000e+00</td>\n",
       "      <td>0.000000e+00</td>\n",
       "      <td>0.000000e+00</td>\n",
       "      <td>0.000000e+00</td>\n",
       "      <td>2.000000e+00</td>\n",
       "      <td>0.000000e+00</td>\n",
       "      <td>1.000000e+00</td>\n",
       "      <td>0.000000e+00</td>\n",
       "      <td>0.000000e+00</td>\n",
       "      <td>0.000000e+00</td>\n",
       "      <td>0.000000e+00</td>\n",
       "    </tr>\n",
       "    <tr>\n",
       "      <th>25%</th>\n",
       "      <td>4.302747e+02</td>\n",
       "      <td>2.300000e+02</td>\n",
       "      <td>4.000000e+00</td>\n",
       "      <td>9.200000e+01</td>\n",
       "      <td>2.778501e+02</td>\n",
       "      <td>4.097360e+05</td>\n",
       "      <td>4.600000e+01</td>\n",
       "      <td>6.000000e+00</td>\n",
       "      <td>0.000000e+00</td>\n",
       "      <td>2.769998e+02</td>\n",
       "      <td>1.900000e+01</td>\n",
       "      <td>5.821821e+01</td>\n",
       "    </tr>\n",
       "    <tr>\n",
       "      <th>50%</th>\n",
       "      <td>1.136915e+03</td>\n",
       "      <td>8.180000e+02</td>\n",
       "      <td>1.000000e+01</td>\n",
       "      <td>2.440000e+02</td>\n",
       "      <td>8.187363e+02</td>\n",
       "      <td>6.244800e+05</td>\n",
       "      <td>1.000000e+02</td>\n",
       "      <td>1.600000e+01</td>\n",
       "      <td>1.000000e+00</td>\n",
       "      <td>1.076000e+03</td>\n",
       "      <td>2.600000e+01</td>\n",
       "      <td>8.576929e+01</td>\n",
       "    </tr>\n",
       "    <tr>\n",
       "      <th>75%</th>\n",
       "      <td>4.114752e+03</td>\n",
       "      <td>3.169000e+03</td>\n",
       "      <td>2.100000e+01</td>\n",
       "      <td>5.780000e+02</td>\n",
       "      <td>2.363667e+03</td>\n",
       "      <td>8.331070e+05</td>\n",
       "      <td>2.700000e+02</td>\n",
       "      <td>3.400000e+01</td>\n",
       "      <td>2.000000e+00</td>\n",
       "      <td>4.468965e+03</td>\n",
       "      <td>3.600000e+01</td>\n",
       "      <td>1.727299e+02</td>\n",
       "    </tr>\n",
       "    <tr>\n",
       "      <th>max</th>\n",
       "      <td>6.527097e+04</td>\n",
       "      <td>3.943060e+05</td>\n",
       "      <td>7.500000e+01</td>\n",
       "      <td>5.436000e+03</td>\n",
       "      <td>6.588992e+04</td>\n",
       "      <td>1.215688e+06</td>\n",
       "      <td>1.261000e+04</td>\n",
       "      <td>9.400000e+01</td>\n",
       "      <td>9.000000e+00</td>\n",
       "      <td>4.966897e+05</td>\n",
       "      <td>1.410000e+02</td>\n",
       "      <td>1.959910e+03</td>\n",
       "    </tr>\n",
       "  </tbody>\n",
       "</table>\n",
       "</div>"
      ],
      "text/plain": [
       "                clv  cum_earned_reward_points  cum_referred_friends  \\\n",
       "count  1.174844e+07              1.143614e+07          1.143614e+07   \n",
       "mean   3.634193e+03              4.356872e+03          1.386087e+01   \n",
       "std    5.775117e+03              1.121846e+04          1.201230e+01   \n",
       "min    0.000000e+00              0.000000e+00          0.000000e+00   \n",
       "25%    4.302747e+02              2.300000e+02          4.000000e+00   \n",
       "50%    1.136915e+03              8.180000e+02          1.000000e+01   \n",
       "75%    4.114752e+03              3.169000e+03          2.100000e+01   \n",
       "max    6.527097e+04              3.943060e+05          7.500000e+01   \n",
       "\n",
       "       cum_transaction_count  cum_transaction_value   customer_id  \\\n",
       "count           1.143614e+07           1.143614e+07  1.174844e+07   \n",
       "mean            4.261847e+02           2.248129e+03  6.146858e+05   \n",
       "std             4.880609e+02           3.903332e+03  2.883516e+05   \n",
       "min             0.000000e+00           0.000000e+00  2.000000e+00   \n",
       "25%             9.200000e+01           2.778501e+02  4.097360e+05   \n",
       "50%             2.440000e+02           8.187363e+02  6.244800e+05   \n",
       "75%             5.780000e+02           2.363667e+03  8.331070e+05   \n",
       "max             5.436000e+03           6.588992e+04  1.215688e+06   \n",
       "\n",
       "       earned_reward_points  months_since_joined  referred_friends  \\\n",
       "count          1.174844e+07         1.174844e+07      1.174844e+07   \n",
       "mean           2.975513e+02         2.223146e+01      9.670399e-01   \n",
       "std            5.645690e+02         1.993022e+01      9.877004e-01   \n",
       "min            0.000000e+00         1.000000e+00      0.000000e+00   \n",
       "25%            4.600000e+01         6.000000e+00      0.000000e+00   \n",
       "50%            1.000000e+02         1.600000e+01      1.000000e+00   \n",
       "75%            2.700000e+02         3.400000e+01      2.000000e+00   \n",
       "max            1.261000e+04         9.400000e+01      9.000000e+00   \n",
       "\n",
       "       total_reward_points  transaction_count  transaction_value  \n",
       "count         1.174844e+07       1.174844e+07       1.174844e+07  \n",
       "mean          5.752907e+03       2.942922e+01       1.513609e+02  \n",
       "std           1.408958e+04       1.479195e+01       1.663061e+02  \n",
       "min           0.000000e+00       0.000000e+00       0.000000e+00  \n",
       "25%           2.769998e+02       1.900000e+01       5.821821e+01  \n",
       "50%           1.076000e+03       2.600000e+01       8.576929e+01  \n",
       "75%           4.468965e+03       3.600000e+01       1.727299e+02  \n",
       "max           4.966897e+05       1.410000e+02       1.959910e+03  "
      ]
     },
     "execution_count": 105,
     "metadata": {},
     "output_type": "execute_result"
    }
   ],
   "source": [
    "dfall.describe()"
   ]
  },
  {
   "cell_type": "code",
   "execution_count": 116,
   "metadata": {},
   "outputs": [],
   "source": [
    "trainall = (dfall.customer_id % 10) < 8"
   ]
  },
  {
   "cell_type": "code",
   "execution_count": 124,
   "metadata": {},
   "outputs": [],
   "source": [
    "cont = ['referred_friends', 'months_since_joined']\n",
    "for cat in cont:\n",
    "    dfall[cat] = dfall[cat].astype(float)"
   ]
  },
  {
   "cell_type": "code",
   "execution_count": 125,
   "metadata": {},
   "outputs": [],
   "source": [
    "cum_features =  ['referred_friends', 'transaction_count', 'transaction_value', 'earned_reward_points']"
   ]
  },
  {
   "cell_type": "code",
   "execution_count": 126,
   "metadata": {},
   "outputs": [],
   "source": [
    "for feat in cum_features:\n",
    "    dfall['cum_'+feat] = dfall.groupby('customer_id')[feat].cumsum()"
   ]
  },
  {
   "cell_type": "code",
   "execution_count": 131,
   "metadata": {},
   "outputs": [],
   "source": [
    "cats = ['cluster']\n",
    "for cat in cats:\n",
    "    dfall[cat] = pd.Categorical(dfall[cat]).codes"
   ]
  },
  {
   "cell_type": "code",
   "execution_count": 132,
   "metadata": {},
   "outputs": [],
   "source": [
    "features = cum_features + ['cum_' + feat for feat in cum_features] + ['cluster', 'clv']\n"
   ]
  },
  {
   "cell_type": "code",
   "execution_count": 133,
   "metadata": {},
   "outputs": [
    {
     "data": {
      "text/plain": [
       "referred_friends            float64\n",
       "transaction_count           float64\n",
       "transaction_value           float64\n",
       "earned_reward_points        float64\n",
       "cum_referred_friends        float64\n",
       "cum_transaction_count       float64\n",
       "cum_transaction_value       float64\n",
       "cum_earned_reward_points    float64\n",
       "cluster                        int8\n",
       "clv                         float64\n",
       "dtype: object"
      ]
     },
     "execution_count": 133,
     "metadata": {},
     "output_type": "execute_result"
    }
   ],
   "source": [
    "dfall[features].dtypes"
   ]
  },
  {
   "cell_type": "code",
   "execution_count": 174,
   "metadata": {},
   "outputs": [
    {
     "name": "stdout",
     "output_type": "stream",
     "text": [
      "Starting training...\n",
      "[1]\tvalid_0's binary_logloss: 0.179433\n",
      "Training until validation scores don't improve for 5 rounds\n",
      "[2]\tvalid_0's binary_logloss: 0.176746\n",
      "[3]\tvalid_0's binary_logloss: 0.174464\n",
      "[4]\tvalid_0's binary_logloss: 0.172654\n",
      "[5]\tvalid_0's binary_logloss: 0.17124\n",
      "[6]\tvalid_0's binary_logloss: 0.170099\n",
      "[7]\tvalid_0's binary_logloss: 0.169139\n",
      "[8]\tvalid_0's binary_logloss: 0.168288\n",
      "[9]\tvalid_0's binary_logloss: 0.167607\n",
      "[10]\tvalid_0's binary_logloss: 0.167002\n",
      "[11]\tvalid_0's binary_logloss: 0.166455\n",
      "[12]\tvalid_0's binary_logloss: 0.165946\n",
      "[13]\tvalid_0's binary_logloss: 0.16553\n",
      "[14]\tvalid_0's binary_logloss: 0.165134\n",
      "[15]\tvalid_0's binary_logloss: 0.16479\n",
      "[16]\tvalid_0's binary_logloss: 0.164478\n",
      "[17]\tvalid_0's binary_logloss: 0.164182\n",
      "[18]\tvalid_0's binary_logloss: 0.163932\n",
      "[19]\tvalid_0's binary_logloss: 0.163709\n",
      "[20]\tvalid_0's binary_logloss: 0.163511\n",
      "[21]\tvalid_0's binary_logloss: 0.163329\n",
      "[22]\tvalid_0's binary_logloss: 0.163156\n",
      "[23]\tvalid_0's binary_logloss: 0.163\n",
      "[24]\tvalid_0's binary_logloss: 0.162838\n",
      "[25]\tvalid_0's binary_logloss: 0.162698\n",
      "[26]\tvalid_0's binary_logloss: 0.162546\n",
      "[27]\tvalid_0's binary_logloss: 0.162422\n",
      "[28]\tvalid_0's binary_logloss: 0.162308\n",
      "[29]\tvalid_0's binary_logloss: 0.162191\n",
      "[30]\tvalid_0's binary_logloss: 0.162096\n",
      "[31]\tvalid_0's binary_logloss: 0.162002\n",
      "[32]\tvalid_0's binary_logloss: 0.161918\n",
      "[33]\tvalid_0's binary_logloss: 0.161815\n",
      "[34]\tvalid_0's binary_logloss: 0.161751\n",
      "[35]\tvalid_0's binary_logloss: 0.161647\n",
      "[36]\tvalid_0's binary_logloss: 0.161591\n",
      "[37]\tvalid_0's binary_logloss: 0.161526\n",
      "[38]\tvalid_0's binary_logloss: 0.161417\n",
      "[39]\tvalid_0's binary_logloss: 0.161336\n",
      "[40]\tvalid_0's binary_logloss: 0.161239\n",
      "[41]\tvalid_0's binary_logloss: 0.161163\n",
      "[42]\tvalid_0's binary_logloss: 0.161072\n",
      "[43]\tvalid_0's binary_logloss: 0.160987\n",
      "[44]\tvalid_0's binary_logloss: 0.160902\n",
      "[45]\tvalid_0's binary_logloss: 0.160826\n",
      "[46]\tvalid_0's binary_logloss: 0.160788\n",
      "[47]\tvalid_0's binary_logloss: 0.16073\n",
      "[48]\tvalid_0's binary_logloss: 0.16068\n",
      "[49]\tvalid_0's binary_logloss: 0.160611\n",
      "[50]\tvalid_0's binary_logloss: 0.160539\n",
      "[51]\tvalid_0's binary_logloss: 0.160469\n",
      "[52]\tvalid_0's binary_logloss: 0.160396\n",
      "[53]\tvalid_0's binary_logloss: 0.160332\n",
      "[54]\tvalid_0's binary_logloss: 0.160297\n",
      "[55]\tvalid_0's binary_logloss: 0.160234\n",
      "[56]\tvalid_0's binary_logloss: 0.160175\n",
      "[57]\tvalid_0's binary_logloss: 0.160125\n",
      "[58]\tvalid_0's binary_logloss: 0.16007\n",
      "[59]\tvalid_0's binary_logloss: 0.160017\n",
      "[60]\tvalid_0's binary_logloss: 0.15996\n",
      "[61]\tvalid_0's binary_logloss: 0.159913\n",
      "[62]\tvalid_0's binary_logloss: 0.15986\n",
      "[63]\tvalid_0's binary_logloss: 0.159806\n",
      "[64]\tvalid_0's binary_logloss: 0.159757\n",
      "[65]\tvalid_0's binary_logloss: 0.159716\n",
      "[66]\tvalid_0's binary_logloss: 0.159664\n",
      "[67]\tvalid_0's binary_logloss: 0.15962\n",
      "[68]\tvalid_0's binary_logloss: 0.15958\n",
      "[69]\tvalid_0's binary_logloss: 0.159533\n",
      "[70]\tvalid_0's binary_logloss: 0.159497\n",
      "[71]\tvalid_0's binary_logloss: 0.159457\n",
      "[72]\tvalid_0's binary_logloss: 0.159413\n",
      "[73]\tvalid_0's binary_logloss: 0.159378\n",
      "[74]\tvalid_0's binary_logloss: 0.159339\n",
      "[75]\tvalid_0's binary_logloss: 0.159309\n",
      "[76]\tvalid_0's binary_logloss: 0.159267\n",
      "[77]\tvalid_0's binary_logloss: 0.159237\n",
      "[78]\tvalid_0's binary_logloss: 0.159197\n",
      "[79]\tvalid_0's binary_logloss: 0.159156\n",
      "[80]\tvalid_0's binary_logloss: 0.159118\n",
      "[81]\tvalid_0's binary_logloss: 0.159077\n",
      "[82]\tvalid_0's binary_logloss: 0.159054\n",
      "[83]\tvalid_0's binary_logloss: 0.159017\n",
      "[84]\tvalid_0's binary_logloss: 0.158984\n",
      "[85]\tvalid_0's binary_logloss: 0.158948\n",
      "[86]\tvalid_0's binary_logloss: 0.15892\n",
      "[87]\tvalid_0's binary_logloss: 0.158887\n",
      "[88]\tvalid_0's binary_logloss: 0.158853\n",
      "[89]\tvalid_0's binary_logloss: 0.158825\n",
      "[90]\tvalid_0's binary_logloss: 0.158797\n",
      "[91]\tvalid_0's binary_logloss: 0.158766\n",
      "[92]\tvalid_0's binary_logloss: 0.158729\n",
      "[93]\tvalid_0's binary_logloss: 0.158697\n",
      "[94]\tvalid_0's binary_logloss: 0.15866\n",
      "[95]\tvalid_0's binary_logloss: 0.158622\n",
      "[96]\tvalid_0's binary_logloss: 0.158589\n",
      "[97]\tvalid_0's binary_logloss: 0.158552\n",
      "[98]\tvalid_0's binary_logloss: 0.158522\n",
      "[99]\tvalid_0's binary_logloss: 0.158496\n",
      "[100]\tvalid_0's binary_logloss: 0.158464\n",
      "Did not meet early stopping. Best iteration is:\n",
      "[100]\tvalid_0's binary_logloss: 0.158464\n"
     ]
    }
   ],
   "source": [
    "dfall['label'] = dfall.groupby('customer_id').churned.shift(-1)\n",
    "df_clean = dfall.dropna(axis=0, subset=['label'])\n",
    "train = (df_clean.customer_id % 10) < 8\n",
    "\n",
    "x_train = df_clean[train]\n",
    "x_test = df_clean[~train]\n",
    "\n",
    "y_train = df_clean[train]['label'].astype(bool)\n",
    "y_test = df_clean[~train]['label'].astype(bool)\n",
    "\n",
    "# create dataset for lightgbm\n",
    "lgb_train = lgb.Dataset(x_train[features], y_train)\n",
    "lgb_eval = lgb.Dataset(x_test[features], y_test, reference=lgb_train)\n",
    "\n",
    "# specify your configurations as a dict\n",
    "params = {\n",
    "    'boosting_type': 'gbdt',\n",
    "    'objective': 'binary',\n",
    "    'application': 'binary',\n",
    "    'verbose': 0,\n",
    "    'eta':0.1\n",
    "}\n",
    "\n",
    "print('Starting training...')\n",
    "# train\n",
    "gbm = lgb.train(params,\n",
    "                lgb_train,\n",
    "                num_boost_round=100,\n",
    "                valid_sets=lgb_eval,\n",
    "                early_stopping_rounds=5)\n"
   ]
  },
  {
   "cell_type": "code",
   "execution_count": 175,
   "metadata": {},
   "outputs": [
    {
     "name": "stderr",
     "output_type": "stream",
     "text": [
      "/home/anton/code/BCGHack/venv/lib/python3.7/site-packages/ipykernel_launcher.py:1: SettingWithCopyWarning: \n",
      "A value is trying to be set on a copy of a slice from a DataFrame.\n",
      "Try using .loc[row_indexer,col_indexer] = value instead\n",
      "\n",
      "See the caveats in the documentation: http://pandas.pydata.org/pandas-docs/stable/user_guide/indexing.html#returning-a-view-versus-a-copy\n",
      "  \"\"\"Entry point for launching an IPython kernel.\n",
      "/home/anton/code/BCGHack/venv/lib/python3.7/site-packages/ipykernel_launcher.py:2: SettingWithCopyWarning: \n",
      "A value is trying to be set on a copy of a slice from a DataFrame.\n",
      "Try using .loc[row_indexer,col_indexer] = value instead\n",
      "\n",
      "See the caveats in the documentation: http://pandas.pydata.org/pandas-docs/stable/user_guide/indexing.html#returning-a-view-versus-a-copy\n",
      "  \n"
     ]
    }
   ],
   "source": [
    "x_train['p'] = gbm.predict(x_train[features])\n",
    "x_test['p'] = gbm.predict(x_test[features])"
   ]
  },
  {
   "cell_type": "code",
   "execution_count": 176,
   "metadata": {},
   "outputs": [],
   "source": [
    "lasts = dfall.sort_values('month').groupby('customer_id').tail(1)"
   ]
  },
  {
   "cell_type": "code",
   "execution_count": 177,
   "metadata": {},
   "outputs": [],
   "source": [
    "to_pred = lasts[(~lasts.churned) & ~lasts.customer_id.isin(set(submission.customer_id))]"
   ]
  },
  {
   "cell_type": "code",
   "execution_count": 178,
   "metadata": {},
   "outputs": [
    {
     "data": {
      "text/plain": [
       "297614"
      ]
     },
     "execution_count": 178,
     "metadata": {},
     "output_type": "execute_result"
    }
   ],
   "source": [
    "len(to_pred)"
   ]
  },
  {
   "cell_type": "code",
   "execution_count": 179,
   "metadata": {},
   "outputs": [
    {
     "name": "stderr",
     "output_type": "stream",
     "text": [
      "/home/anton/code/BCGHack/venv/lib/python3.7/site-packages/ipykernel_launcher.py:1: SettingWithCopyWarning: \n",
      "A value is trying to be set on a copy of a slice from a DataFrame.\n",
      "Try using .loc[row_indexer,col_indexer] = value instead\n",
      "\n",
      "See the caveats in the documentation: http://pandas.pydata.org/pandas-docs/stable/user_guide/indexing.html#returning-a-view-versus-a-copy\n",
      "  \"\"\"Entry point for launching an IPython kernel.\n"
     ]
    }
   ],
   "source": [
    "to_pred['p'] = gbm.predict(to_pred[features])"
   ]
  },
  {
   "cell_type": "code",
   "execution_count": 180,
   "metadata": {},
   "outputs": [
    {
     "name": "stderr",
     "output_type": "stream",
     "text": [
      "/home/anton/code/BCGHack/venv/lib/python3.7/site-packages/ipykernel_launcher.py:1: SettingWithCopyWarning: \n",
      "A value is trying to be set on a copy of a slice from a DataFrame.\n",
      "Try using .loc[row_indexer,col_indexer] = value instead\n",
      "\n",
      "See the caveats in the documentation: http://pandas.pydata.org/pandas-docs/stable/user_guide/indexing.html#returning-a-view-versus-a-copy\n",
      "  \"\"\"Entry point for launching an IPython kernel.\n"
     ]
    }
   ],
   "source": [
    "to_pred['value'] = to_pred['p'] * to_pred['clv']"
   ]
  },
  {
   "cell_type": "code",
   "execution_count": 181,
   "metadata": {},
   "outputs": [
    {
     "data": {
      "text/plain": [
       "<matplotlib.axes._subplots.AxesSubplot at 0x7f4214b97cc0>"
      ]
     },
     "execution_count": 181,
     "metadata": {},
     "output_type": "execute_result"
    },
    {
     "data": {
      "image/png": "[encoded data removed]",
      "text/plain": [
       "<Figure size 432x288 with 1 Axes>"
      ]
     },
     "metadata": {
      "needs_background": "light"
     },
     "output_type": "display_data"
    }
   ],
   "source": [
    "to_pred.value.hist(bins=50)"
   ]
  },
  {
   "cell_type": "code",
   "execution_count": 182,
   "metadata": {},
   "outputs": [],
   "source": [
    "to_pred[to_pred.value > 51][['customer_id']].to_csv('e.csv', index=False)"
   ]
  },
  {
   "cell_type": "code",
   "execution_count": 136,
   "metadata": {},
   "outputs": [],
   "source": [
    "df_p = pd.concat([x_train, x_test])"
   ]
  },
  {
   "cell_type": "code",
   "execution_count": 137,
   "metadata": {},
   "outputs": [],
   "source": [
    "df_p['value'] = df_p['p'] * df_p['clv']"
   ]
  },
  {
   "cell_type": "code",
   "execution_count": 157,
   "metadata": {},
   "outputs": [
    {
     "data": {
      "text/plain": [
       "False    2082281\n",
       "True       97885\n",
       "Name: label, dtype: int64"
      ]
     },
     "execution_count": 157,
     "metadata": {},
     "output_type": "execute_result"
    }
   ],
   "source": [
    "y_test.value_counts()"
   ]
  },
  {
   "cell_type": "code",
   "execution_count": 153,
   "metadata": {},
   "outputs": [
    {
     "data": {
      "text/plain": [
       "False    10900272\n",
       "Name: churned, dtype: int64"
      ]
     },
     "execution_count": 153,
     "metadata": {},
     "output_type": "execute_result"
    }
   ],
   "source": [
    "df_p.churned.value_counts()"
   ]
  },
  {
   "cell_type": "code",
   "execution_count": 138,
   "metadata": {},
   "outputs": [
    {
     "data": {
      "text/plain": [
       "<matplotlib.axes._subplots.AxesSubplot at 0x7f4268747208>"
      ]
     },
     "execution_count": 138,
     "metadata": {},
     "output_type": "execute_result"
    },
    {
     "data": {
      "image/png": "[encoded data removed]",
      "text/plain": [
       "<Figure size 432x288 with 1 Axes>"
      ]
     },
     "metadata": {
      "needs_background": "light"
     },
     "output_type": "display_data"
    }
   ],
   "source": [
    "df_p.value.hist(bins=50)"
   ]
  },
  {
   "cell_type": "code",
   "execution_count": 142,
   "metadata": {},
   "outputs": [
    {
     "data": {
      "text/html": [
       "<div>\n",
       "<style scoped>\n",
       "    .dataframe tbody tr th:only-of-type {\n",
       "        vertical-align: middle;\n",
       "    }\n",
       "\n",
       "    .dataframe tbody tr th {\n",
       "        vertical-align: top;\n",
       "    }\n",
       "\n",
       "    .dataframe thead th {\n",
       "        text-align: right;\n",
       "    }\n",
       "</style>\n",
       "<table border=\"1\" class=\"dataframe\">\n",
       "  <thead>\n",
       "    <tr style=\"text-align: right;\">\n",
       "      <th></th>\n",
       "      <th>customer_id</th>\n",
       "      <th>submitted</th>\n",
       "    </tr>\n",
       "  </thead>\n",
       "  <tbody>\n",
       "    <tr>\n",
       "      <th>0</th>\n",
       "      <td>32498</td>\n",
       "      <td>True</td>\n",
       "    </tr>\n",
       "    <tr>\n",
       "      <th>1</th>\n",
       "      <td>40708</td>\n",
       "      <td>True</td>\n",
       "    </tr>\n",
       "    <tr>\n",
       "      <th>2</th>\n",
       "      <td>81815</td>\n",
       "      <td>True</td>\n",
       "    </tr>\n",
       "    <tr>\n",
       "      <th>3</th>\n",
       "      <td>167357</td>\n",
       "      <td>True</td>\n",
       "    </tr>\n",
       "    <tr>\n",
       "      <th>4</th>\n",
       "      <td>75355</td>\n",
       "      <td>True</td>\n",
       "    </tr>\n",
       "    <tr>\n",
       "      <th>...</th>\n",
       "      <td>...</td>\n",
       "      <td>...</td>\n",
       "    </tr>\n",
       "    <tr>\n",
       "      <th>9995</th>\n",
       "      <td>31970</td>\n",
       "      <td>True</td>\n",
       "    </tr>\n",
       "    <tr>\n",
       "      <th>9996</th>\n",
       "      <td>31970</td>\n",
       "      <td>True</td>\n",
       "    </tr>\n",
       "    <tr>\n",
       "      <th>9997</th>\n",
       "      <td>60153</td>\n",
       "      <td>True</td>\n",
       "    </tr>\n",
       "    <tr>\n",
       "      <th>9998</th>\n",
       "      <td>31970</td>\n",
       "      <td>True</td>\n",
       "    </tr>\n",
       "    <tr>\n",
       "      <th>9999</th>\n",
       "      <td>60153</td>\n",
       "      <td>True</td>\n",
       "    </tr>\n",
       "  </tbody>\n",
       "</table>\n",
       "<p>10000 rows × 2 columns</p>\n",
       "</div>"
      ],
      "text/plain": [
       "      customer_id  submitted\n",
       "0           32498       True\n",
       "1           40708       True\n",
       "2           81815       True\n",
       "3          167357       True\n",
       "4           75355       True\n",
       "...           ...        ...\n",
       "9995        31970       True\n",
       "9996        31970       True\n",
       "9997        60153       True\n",
       "9998        31970       True\n",
       "9999        60153       True\n",
       "\n",
       "[10000 rows x 2 columns]"
      ]
     },
     "execution_count": 142,
     "metadata": {},
     "output_type": "execute_result"
    }
   ],
   "source": [
    "submission"
   ]
  },
  {
   "cell_type": "code",
   "execution_count": 145,
   "metadata": {},
   "outputs": [],
   "source": [
    "lasts_p = df_p.sort_values('month').groupby('customer_id').tail(1)"
   ]
  },
  {
   "cell_type": "code",
   "execution_count": 147,
   "metadata": {},
   "outputs": [
    {
     "data": {
      "text/plain": [
       "776558"
      ]
     },
     "execution_count": 147,
     "metadata": {},
     "output_type": "execute_result"
    }
   ],
   "source": [
    "len(lasts_p)"
   ]
  },
  {
   "cell_type": "code",
   "execution_count": 148,
   "metadata": {},
   "outputs": [
    {
     "data": {
      "text/plain": [
       "776558"
      ]
     },
     "execution_count": 148,
     "metadata": {},
     "output_type": "execute_result"
    }
   ],
   "source": [
    "len(lasts_p[~lasts_p.churned])"
   ]
  },
  {
   "cell_type": "code",
   "execution_count": 143,
   "metadata": {},
   "outputs": [
    {
     "data": {
      "text/plain": [
       "10846954"
      ]
     },
     "execution_count": 143,
     "metadata": {},
     "output_type": "execute_result"
    }
   ],
   "source": [
    "len(df_p[~df_p.customer_id.isin(set(submission.customer_id))])"
   ]
  },
  {
   "cell_type": "code",
   "execution_count": 144,
   "metadata": {},
   "outputs": [
    {
     "data": {
      "text/plain": [
       "10900272"
      ]
     },
     "execution_count": 144,
     "metadata": {},
     "output_type": "execute_result"
    }
   ],
   "source": [
    "len(df_p)"
   ]
  },
  {
   "cell_type": "code",
   "execution_count": 139,
   "metadata": {},
   "outputs": [],
   "source": [
    "best_step_1 = df_p.sort_values('value').iloc[-10000:]"
   ]
  },
  {
   "cell_type": "code",
   "execution_count": 140,
   "metadata": {},
   "outputs": [
    {
     "data": {
      "text/plain": [
       "0.012245298972171996"
      ]
     },
     "execution_count": 140,
     "metadata": {},
     "output_type": "execute_result"
    }
   ],
   "source": [
    "best_step_1.p.mean()"
   ]
  },
  {
   "cell_type": "code",
   "execution_count": 141,
   "metadata": {},
   "outputs": [
    {
     "data": {
      "text/plain": [
       "<matplotlib.axes._subplots.AxesSubplot at 0x7f421927c5c0>"
      ]
     },
     "execution_count": 141,
     "metadata": {},
     "output_type": "execute_result"
    },
    {
     "data": {
      "image/png": "[encoded data removed]",
      "text/plain": [
       "<Figure size 432x288 with 1 Axes>"
      ]
     },
     "metadata": {
      "needs_background": "light"
     },
     "output_type": "display_data"
    }
   ],
   "source": [
    "best_step_1.value.hist(bins=40)"
   ]
  },
  {
   "cell_type": "code",
   "execution_count": null,
   "metadata": {},
   "outputs": [],
   "source": []
  }
 ],
 "metadata": {
  "kernelspec": {
   "display_name": "Python 3",
   "language": "python",
   "name": "python3"
  },
  "language_info": {
   "codemirror_mode": {
    "name": "ipython",
    "version": 3
   },
   "file_extension": ".py",
   "mimetype": "text/x-python",
   "name": "python",
   "nbconvert_exporter": "python",
   "pygments_lexer": "ipython3",
   "version": "3.7.3"
  }
 },
 "nbformat": 4,
 "nbformat_minor": 4
}
